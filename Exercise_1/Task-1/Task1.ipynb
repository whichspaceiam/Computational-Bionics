{
 "cells": [
  {
   "cell_type": "markdown",
   "metadata": {},
   "source": [
    "# Computational Bionics: Project Exercise 1\n",
    "\n",
    "Group members:\n",
    "- Yash Waware\n",
    "- Julian Lork\n",
    "- Florian Frech (12308544)"
   ]
  },
  {
   "cell_type": "markdown",
   "metadata": {},
   "source": [
    "## Task 1: Modeling the Leg"
   ]
  },
  {
   "cell_type": "markdown",
   "metadata": {},
   "source": [
    "### 1.1 Description"
   ]
  },
  {
   "cell_type": "markdown",
   "metadata": {},
   "source": [
    "The following section consider the model of the leg, described by an ODE model.\n",
    "\n",
    "A test person with a body mass of $m_b = 100$ kg is chosen.\n",
    "\n",
    "Following state variables are involved:\n",
    "- $q_1$: Extension angle of the **hip** around then transversal axis ($xy$-plane)\n",
    "- $\\omega_1$: Angular velocity of the tight\n",
    "- $q_2$: Rotation angle of the **knee** around the transversal axis ($xy$-plane) \n",
    "- $\\omega_2$ Angular velocity of the shank\n",
    "\n",
    "The segement masses are considered as point masses in the middle of each segment."
   ]
  },
  {
   "cell_type": "markdown",
   "metadata": {},
   "source": [
    "![](LegModel.png)"
   ]
  },
  {
   "cell_type": "markdown",
   "metadata": {},
   "source": [
    "|Variable|Description|\n",
    "|--------|-----------|\n",
    "|$r_H$|Position vector of the hip to the reference system|\n",
    "|$H$|Hip Joint|\n",
    "|$K$|Knee Joint|\n",
    "|$O$|Tight|\n",
    "|$U$|Shank|\n",
    "|$S$|Centre of Mass of the Foot|\n",
    "|$SO$|Centre of Mass of the Tight|\n",
    "|$SU$|Centre of Mass Shank|\n",
    "|$m_1$|Tight Mass|\n",
    "|$m_2$|Shank Mass|\n",
    "|$m_3$|Foot Point Mass|\n",
    "|$J_1$|Moment of Inertia of the Tight|\n",
    "|$J_2$|Moment of Inertia of the Shank|\n",
    "|$\\alpha_H$|Flexion / Extension Angle of the Hip|\n",
    "|$\\alpha_K$|Flexion / Extension Angle of the Knee|\n",
    "\n",
    "\n",
    "Following relations for the partial masses of the legs are assumed:\n",
    "\n",
    "|Segment| Mass m [kg]|\n",
    "|------|--------------|\n",
    "|Tight|  $m_1 = 0.090 \\cdot m_b + 0.73 = 9.73$|\n",
    "|Shank| $m_2 = 0.055 \\cdot m_b - 0.43 = 5.07$|\n",
    "|Foot| $m_3 = 0.001 \\cdot m_b + 0.34 = 0.44$|"
   ]
  },
  {
   "cell_type": "markdown",
   "metadata": {},
   "source": [
    "### 1.2 Simplified Box Model\n",
    "\n",
    "![](BoxModelLegModel.png)\n",
    "\n",
    "**Input:**\n",
    "- anatomical data\n",
    "- segment weights\n",
    "- proportions of the limbs\n",
    "- length and position of the segments\n",
    "- gait data for one cycle\n",
    "- Flexion / Extension **angles** of the ankle, knee, and hip joint\n",
    "\n",
    "**Equations:**\n",
    "\n",
    "**Output:**\n",
    "- Ground reaction **forces** in y- and x- direction\n",
    "- **Moments** around foot, knee, and hip joints\n"
   ]
  },
  {
   "cell_type": "markdown",
   "metadata": {},
   "source": [
    "### 1.3 Setting\n",
    "- Length of the Tight: $l_O = 0.410$ m\n",
    "- Length of the Shank: $l_U = 0.415$ m\n",
    "\n",
    "https://personal.cityu.edu.hk/meachan/Online%20Anthropometry/Chapter2/Ch2-5.htm\n",
    "\n",
    "https://pmc.ncbi.nlm.nih.gov/articles/PMC5305206/"
   ]
  },
  {
   "cell_type": "markdown",
   "metadata": {},
   "source": [
    "### 1.4 Derivation "
   ]
  },
  {
   "cell_type": "markdown",
   "metadata": {},
   "source": [
    "**Relation between common measured joint angle and the chosen generalized coordinates**\n",
    "\n",
    "$$q_1 = \\alpha_H + \\frac{3}{2}\\pi$$\n",
    "\n",
    "$$q_2 = q_1 - \\alpha_K = \\alpha_H + \\frac{3}{2}\\pi - \\alpha_K$$"
   ]
  },
  {
   "cell_type": "markdown",
   "metadata": {},
   "source": [
    "**Position vectors** to the centre of mass of tight $SO$, shank $SU$, and foot $S$ with respect to the hip $H$\n",
    "\n",
    "https://scienceworld.wolfram.com/physics/DoublePendulum.html\n",
    "\n",
    "https://en.wikipedia.org/wiki/Double_pendulum\n",
    "\n",
    "\n",
    "$$\n",
    "\\mathbf{r}_{SO} = 0.5 \\cdot l_O \\cdot \\begin{bmatrix} \n",
    "                   \\cos q_1 \\\\\n",
    "                   \\sin q_1 \\\\\n",
    "                   0 \\end{bmatrix} \\quad \\quad\n",
    "\n",
    "\\mathbf{r}_{SU} = \\begin{bmatrix}\n",
    "                   l_O \\cos q_1 + 0.5 \\cdot l_U \\cos q_2 \\\\\n",
    "                   l_O \\sin q_1 + 0.5 \\cdot l_U \\sin q_2 \\\\\n",
    "                   0 \\end{bmatrix} \\quad \\quad\n",
    "\n",
    "\\mathbf{r}_{S} = \\begin{bmatrix}\n",
    "                   l_O \\cos q_1 + l_U \\cos q_2 \\\\\n",
    "                   l_O \\sin q_1 + l_U \\sin q_2 \\\\\n",
    "                   0 \\end{bmatrix} \\quad \\quad                   \n",
    "$$"
   ]
  },
  {
   "cell_type": "markdown",
   "metadata": {},
   "source": [
    "![](SketchTask1.png)"
   ]
  },
  {
   "cell_type": "markdown",
   "metadata": {},
   "source": [
    "**Velocity vectors** to the centre of mass of tight $SO$, shank $SU$, and foot $S$\n",
    "\n",
    "$$\n",
    "\\mathbf{v}_{SO} = 0.5 \\cdot l_O \\cdot \\dot{q}_1\\begin{bmatrix} - \\sin q_1 \\\\ \\cos q_1 \\\\ 0 \\end{bmatrix}\n",
    "$$\n",
    "\n",
    "$$\n",
    "\\mathbf{v}_{SU} = l_O \\cdot \\dot{q}_1 \\begin{bmatrix}  - \\sin q_1 \\\\ \\cos q_1 \\\\ 0 \\end{bmatrix} + 0.5 \\cdot l_U \\cdot \\dot{q}_2 \\begin{bmatrix}  - \\sin q_2 \\\\ \\cos q_2 \\\\ 0 \\end{bmatrix}\n",
    "$$\n",
    "\n",
    "$$\n",
    "\\mathbf{v}_{S} = l_O \\cdot \\dot{q}_1 \\begin{bmatrix}  - \\sin q_1 \\\\ \\cos q_1 \\\\ 0 \\end{bmatrix} + l_U \\cdot \\dot{q}_2 \\begin{bmatrix}  - \\sin q_2 \\\\ \\cos q_2 \\\\ 0 \\end{bmatrix}\n",
    "$$"
   ]
  },
  {
   "cell_type": "code",
   "execution_count": null,
   "metadata": {},
   "outputs": [],
   "source": [
    "# define numerical values\n",
    "l_O_val = 0.410 # length of the tigh [m]\n",
    "l_U_val = 0.415 # length of the shank [m]\n",
    "\n",
    "mO_val = 9.73 # mass of the thigh [kg]\n",
    "mU_val = 5.07 # mass of the shank [kg]\n",
    "mF_val = 0.44 # mass of the foot [kg]\n",
    "\n",
    "g_val = 9.81 # gravity [m/s^2]"
   ]
  },
  {
   "cell_type": "code",
   "execution_count": null,
   "metadata": {},
   "outputs": [],
   "source": [
    "import sympy as sp\n",
    "\n",
    "# define symbolic variables\n",
    "l_O, l_U, q1, q2, w1, w2, t = sp.symbols('l_O l_U q1 q2 w_1  w_2 t')\n",
    "mO, mU, mF = sp.symbols('m_O m_U m_F')\n",
    "g = sp.symbols('g')\n",
    "\n",
    "q1 = sp.Function('q1')(t)\n",
    "q2 = sp.Function('q2')(t)\n",
    "\n",
    "w1 = sp.Function('w_1')(t)\n",
    "w2 = sp.Function('w_2')(t)\n",
    "\n",
    "# Position vectors\n",
    "r_SO = sp.Matrix([0.5 * l_O * sp.cos(q1), 0.5 * l_O *sp.sin(q1), 0])\n",
    "r_SU = sp.Matrix([l_O * sp.cos(q1) + 0.5 * l_U * sp.cos(q2), l_O * sp.sin(q1) + 0.5 * l_U * sp.sin(q2), 0])\n",
    "r_S = sp.Matrix([l_O * sp.cos(q1) + l_U * sp.cos(q2), l_O * sp.sin(q1) + l_U * sp.sin(q2), 0])\n",
    "\n",
    "# Define velocity vectors\n",
    "v_SO = 0.5 * l_O * w1 * sp.Matrix([[-sp.sin(q1)], [sp.cos(q1)], [0]])\n",
    "v_SU = l_O * w1 * sp.Matrix([[-sp.sin(q1)], [sp.cos(q1)], [0]]) + 0.5 * l_U * w2 * sp.Matrix([[-sp.sin(q2)], [sp.cos(q2)], [0]])\n",
    "v_S = l_O * w1 * sp.Matrix([[-sp.sin(q1)], [sp.cos(q1)], [0]]) + l_U * w2 * sp.Matrix([[-sp.sin(q2)], [sp.cos(q2)], [0]])\n",
    "\n",
    "#v_SO = sp.diff(r_SO, t)\n",
    "#v_SU = sp.diff(r_SU, t)\n",
    "#v_S = sp.diff(r_S, t)"
   ]
  },
  {
   "cell_type": "markdown",
   "metadata": {},
   "source": [
    "**Kinetic Energy T**\n",
    "\n",
    "$$\n",
    "T_1 = \\frac{1}{2} m_O \\mathbf{v}_{SO}^T \\mathbf{v}_{SO}\n",
    "$$\n",
    "\n",
    "$$\n",
    "T_2 = \\frac{1}{2} m_U \\mathbf{v}_{SU}^T \\mathbf{v}_{SU}\n",
    "$$\n",
    "\n",
    "$$\n",
    "T_3 = \\frac{1}{2} m_F \\mathbf{v}_{S}^T \\mathbf{v}_{S}\n",
    "$$"
   ]
  },
  {
   "cell_type": "code",
   "execution_count": 2,
   "metadata": {},
   "outputs": [
    {
     "data": {
      "text/latex": [
       "$\\displaystyle 0.125 l_{O}^{2} m_{O} w_{1}^{2}{\\left(t \\right)} + 0.5 m_{F} \\left(l_{O}^{2} w_{1}^{2}{\\left(t \\right)} + 2 l_{O} l_{U} w_{1}{\\left(t \\right)} w_{2}{\\left(t \\right)} \\cos{\\left(q_{1}{\\left(t \\right)} - q_{2}{\\left(t \\right)} \\right)} + l_{U}^{2} w_{2}^{2}{\\left(t \\right)}\\right) + 0.5 m_{U} \\left(1.0 l_{O}^{2} w_{1}^{2}{\\left(t \\right)} + 1.0 l_{O} l_{U} w_{1}{\\left(t \\right)} w_{2}{\\left(t \\right)} \\cos{\\left(q_{1}{\\left(t \\right)} - q_{2}{\\left(t \\right)} \\right)} + 0.25 l_{U}^{2} w_{2}^{2}{\\left(t \\right)}\\right)$"
      ],
      "text/plain": [
       "0.125*l_O**2*m_O*w_1(t)**2 + 0.5*m_F*(l_O**2*w_1(t)**2 + 2*l_O*l_U*w_1(t)*w_2(t)*cos(q1(t) - q2(t)) + l_U**2*w_2(t)**2) + 0.5*m_U*(1.0*l_O**2*w_1(t)**2 + 1.0*l_O*l_U*w_1(t)*w_2(t)*cos(q1(t) - q2(t)) + 0.25*l_U**2*w_2(t)**2)"
      ]
     },
     "execution_count": 2,
     "metadata": {},
     "output_type": "execute_result"
    }
   ],
   "source": [
    "# Kinetic energy\n",
    "T1 = 0.5 * mO * v_SO.dot(v_SO)\n",
    "T2 = 0.5 * mU * v_SU.dot(v_SU)\n",
    "T3 = 0.5 * mF * v_S.dot(v_S)\n",
    "T = T1 + T2 + T3\n",
    "T = T.simplify()\n",
    "\n",
    "T"
   ]
  },
  {
   "cell_type": "markdown",
   "metadata": {},
   "source": [
    "**Potential Energy V**\n",
    "\n",
    "$$\n",
    "V_1 = m_O \\cdot g \\cdot 0.5 \\cdot l_O \\cdot \\sin q_1\n",
    "$$\n",
    "\n",
    "$$\n",
    "V_2 = m_U \\cdot g \\cdot ( l_O \\sin q_1 + 0.5 \\cdot l_U \\sin q_2)\n",
    "$$\n",
    "\n",
    "$$\n",
    "V_3 = m_F \\cdot g \\cdot ( l_O \\sin q_1 + \\cdot l_U \\sin q_2)\n",
    "$$"
   ]
  },
  {
   "cell_type": "code",
   "execution_count": 3,
   "metadata": {},
   "outputs": [
    {
     "data": {
      "text/latex": [
       "$\\displaystyle g \\left(0.5 l_{O} m_{O} \\sin{\\left(q_{1}{\\left(t \\right)} \\right)} + m_{F} \\left(l_{O} \\sin{\\left(q_{1}{\\left(t \\right)} \\right)} + l_{U} \\sin{\\left(q_{2}{\\left(t \\right)} \\right)}\\right) + m_{U} \\left(l_{O} \\sin{\\left(q_{1}{\\left(t \\right)} \\right)} + 0.5 l_{U} \\sin{\\left(q_{2}{\\left(t \\right)} \\right)}\\right)\\right)$"
      ],
      "text/plain": [
       "g*(0.5*l_O*m_O*sin(q1(t)) + m_F*(l_O*sin(q1(t)) + l_U*sin(q2(t))) + m_U*(l_O*sin(q1(t)) + 0.5*l_U*sin(q2(t))))"
      ]
     },
     "execution_count": 3,
     "metadata": {},
     "output_type": "execute_result"
    }
   ],
   "source": [
    "# Potential energy\n",
    "V1 = mO * g * r_SO[1]\n",
    "V2 = mU * g * r_SU[1]\n",
    "V3 = mF * g * r_S[1]\n",
    "V = V1 + V2 + V3\n",
    "V = V.simplify()\n",
    "\n",
    "V"
   ]
  },
  {
   "cell_type": "markdown",
   "metadata": {},
   "source": [
    "**Lagrange Function**\n",
    "\n",
    "$$L = T - V$$\n",
    "\n",
    "$$\n",
    "L = T_1 + T_2 + T_3 - V_1 - V_2 - V_3\n",
    "$$\n",
    "\n",
    "$$\n",
    "L = \\frac{1}{2} \\left[ m_O \\mathbf{v}_{SO}^T \\mathbf{v}_{SO} + m_U \\mathbf{v}_{SU}^T \\mathbf{v}_{SU} + m_F \\mathbf{v}_{S}^T \\mathbf{v}_{S} \\right]\n",
    "- g \\cdot \\left[ m_O \\cdot 0.5 \\cdot l_O \\cdot \\sin q_1 +  m_U \\cdot ( l_O \\sin q_1 + 0.5 \\cdot l_U \\sin q_2) + m_F \\cdot ( l_O \\sin q_1 + \\cdot l_U \\sin q_2) \\right]\n",
    "$$\n"
   ]
  },
  {
   "cell_type": "code",
   "execution_count": 4,
   "metadata": {},
   "outputs": [],
   "source": [
    "# Lagrangian\n",
    "L = T - V\n",
    "\n",
    "# Derivatives: dL / dw_i\n",
    "dLdw1 = sp.diff(L, w1).simplify()\n",
    "dLdw2 = sp.diff(L, w2).simplify()\n",
    "\n",
    "# Derivatives: d/dt (dL / dw_i)\n",
    "ddt_dLdw1 = sp.diff(dLdw1, t)\n",
    "ddt_dLdw2 = sp.diff(dLdw2, t)\n",
    "\n",
    "# Derivatives: dL / dq_i\n",
    "dLdq1 = sp.diff(L, q1)\n",
    "dLdq2 = sp.diff(L, q2)"
   ]
  },
  {
   "cell_type": "code",
   "execution_count": 5,
   "metadata": {},
   "outputs": [
    {
     "data": {
      "text/plain": [
       "([{\\dot{w}_1: 2*(2*M_H - 2*\\dot{w}_2*l_O*l_U*m_F*cos(q1(t) - q2(t)) - \\dot{w}_2*l_O*l_U*m_U*cos(q1(t) - q2(t)) - 2*g*l_O*m_F*cos(q1(t)) - g*l_O*m_O*cos(q1(t)) - 2*g*l_O*m_U*cos(q1(t)) - 2*l_O*l_U*m_F*w_1(t)*w_2(t)*sin(q1(t) - q2(t)) + 2*l_O*l_U*m_F*w_2(t)*sin(q1(t) - q2(t))*Derivative(q1(t), t) - 2*l_O*l_U*m_F*w_2(t)*sin(q1(t) - q2(t))*Derivative(q2(t), t) - l_O*l_U*m_U*w_1(t)*w_2(t)*sin(q1(t) - q2(t)) + l_O*l_U*m_U*w_2(t)*sin(q1(t) - q2(t))*Derivative(q1(t), t) - l_O*l_U*m_U*w_2(t)*sin(q1(t) - q2(t))*Derivative(q2(t), t))/(l_O**2*(4*m_F + m_O + 4*m_U))}],\n",
       " [{\\dot{w}_2: 2*(2*M_K - 2*\\dot{w}_1*l_O*l_U*m_F*cos(q1(t) - q2(t)) - \\dot{w}_1*l_O*l_U*m_U*cos(q1(t) - q2(t)) - 2*g*l_U*m_F*cos(q2(t)) - g*l_U*m_U*cos(q2(t)) + 2*l_O*l_U*m_F*w_1(t)*w_2(t)*sin(q1(t) - q2(t)) + 2*l_O*l_U*m_F*w_1(t)*sin(q1(t) - q2(t))*Derivative(q1(t), t) - 2*l_O*l_U*m_F*w_1(t)*sin(q1(t) - q2(t))*Derivative(q2(t), t) + l_O*l_U*m_U*w_1(t)*w_2(t)*sin(q1(t) - q2(t)) + l_O*l_U*m_U*w_1(t)*sin(q1(t) - q2(t))*Derivative(q1(t), t) - l_O*l_U*m_U*w_1(t)*sin(q1(t) - q2(t))*Derivative(q2(t), t))/(l_U**2*(4*m_F + m_U))}])"
      ]
     },
     "execution_count": 5,
     "metadata": {},
     "output_type": "execute_result"
    }
   ],
   "source": [
    "M_H, M_K, w1_dot, w2_dot  = sp.symbols(r'M_H M_K \\dot{w}_1 \\dot{w}_2')\n",
    "\n",
    "# Equations of motion for q1 and q2\n",
    "eq1 = ddt_dLdw1 - dLdq1 - M_H\n",
    "eq2 = ddt_dLdw2 - dLdq2 - M_K\n",
    "\n",
    "eq1 = eq1.subs(w1.diff(t), w1_dot).subs(w2.diff(t), w2_dot)\n",
    "eq2 = eq2.subs(w2.diff(t), w2_dot).subs(w1.diff(t), w1_dot)\n",
    "\n",
    "eq1 = eq1.simplify()\n",
    "eq2 = eq2.simplify()\n",
    "\n",
    "w1_dot = sp.solve(eq1, w1_dot, dict=True, simplify=True, rational=True)\n",
    "w2_dot = sp.solve(eq2, w2_dot, dict=True, simplify=True, rational=True)\n",
    "\n",
    "w1_dot, w2_dot"
   ]
  },
  {
   "cell_type": "markdown",
   "metadata": {},
   "source": [
    "**Approach:**\n",
    "$$\\frac{\\partial}{\\partial t} \\left(\\frac{\\partial L}{\\partial \\dot{q}_i} - \\frac{\\partial L}{\\partial q_i} \\right) = Q_i$$"
   ]
  },
  {
   "cell_type": "markdown",
   "metadata": {},
   "source": [
    "$$\n",
    "\\frac{\\partial}{\\partial t} \\left(\\frac{\\partial L}{\\partial \\dot{q}_i} \\right) = \n",
    "\n",
    "\\frac{\\partial}{\\partial t} \\left[ \\frac{1}{2} \\left[ m_O \\mathbf{v}_{SO}^T \\mathbf{v}_{SO} + m_U \\mathbf{v}_{SU}^T \\mathbf{v}_{SU} + m_F \\mathbf{v}_{S}^T \\mathbf{v}_{S} \\right] \\right]\n",
    "$$"
   ]
  },
  {
   "cell_type": "markdown",
   "metadata": {},
   "source": [
    "$$\n",
    "\\frac{\\partial}{\\partial t} \\left(\\frac{\\partial L}{\\partial \\omega_1} \\right) =\n",
    "$$\n",
    "\n",
    "$$\n",
    "\\frac{\\partial}{\\partial t} \\left(\\frac{\\partial L}{\\partial \\omega_2} \\right) =\n",
    "$$"
   ]
  },
  {
   "cell_type": "markdown",
   "metadata": {},
   "source": [
    "$$\n",
    "\\frac{\\partial L}{\\partial q_1} = \n",
    "$$\n",
    "\n",
    "$$\n",
    "\\frac{\\partial L}{\\partial q_2} = \n",
    "$$"
   ]
  },
  {
   "cell_type": "markdown",
   "metadata": {},
   "source": [
    "----------------------------------------------------------"
   ]
  },
  {
   "cell_type": "code",
   "execution_count": 1,
   "metadata": {},
   "outputs": [],
   "source": [
    "import numpy as np\n",
    "import pandas as pd"
   ]
  },
  {
   "cell_type": "code",
   "execution_count": 25,
   "metadata": {},
   "outputs": [
    {
     "data": {
      "text/plain": [
       "0      0\n",
       "1      1\n",
       "2      2\n",
       "3      3\n",
       "4      4\n",
       "      ..\n",
       "95    95\n",
       "96    96\n",
       "97    97\n",
       "98    98\n",
       "99    99\n",
       "Name: gait_%, Length: 100, dtype: int64"
      ]
     },
     "execution_count": 25,
     "metadata": {},
     "output_type": "execute_result"
    }
   ],
   "source": [
    "# read gait file\n",
    "filename = 'gait_data.xls'\n",
    "\n",
    "gait_data = pd.read_excel(filename, engine='xlrd')\n",
    "\n",
    "gait_data[\"gait_%\"]\n"
   ]
  },
  {
   "cell_type": "code",
   "execution_count": 22,
   "metadata": {},
   "outputs": [
    {
     "ename": "KeyError",
     "evalue": "'gait_%'",
     "output_type": "error",
     "traceback": [
      "\u001b[1;31m---------------------------------------------------------------------------\u001b[0m",
      "\u001b[1;31mKeyError\u001b[0m                                  Traceback (most recent call last)",
      "File \u001b[1;32mc:\\Users\\flori\\AppData\\Local\\Programs\\Python\\Python312\\Lib\\site-packages\\pandas\\core\\indexes\\base.py:3790\u001b[0m, in \u001b[0;36mIndex.get_loc\u001b[1;34m(self, key)\u001b[0m\n\u001b[0;32m   3789\u001b[0m \u001b[38;5;28;01mtry\u001b[39;00m:\n\u001b[1;32m-> 3790\u001b[0m     \u001b[38;5;28;01mreturn\u001b[39;00m \u001b[38;5;28;43mself\u001b[39;49m\u001b[38;5;241;43m.\u001b[39;49m\u001b[43m_engine\u001b[49m\u001b[38;5;241;43m.\u001b[39;49m\u001b[43mget_loc\u001b[49m\u001b[43m(\u001b[49m\u001b[43mcasted_key\u001b[49m\u001b[43m)\u001b[49m\n\u001b[0;32m   3791\u001b[0m \u001b[38;5;28;01mexcept\u001b[39;00m \u001b[38;5;167;01mKeyError\u001b[39;00m \u001b[38;5;28;01mas\u001b[39;00m err:\n",
      "File \u001b[1;32mindex.pyx:152\u001b[0m, in \u001b[0;36mpandas._libs.index.IndexEngine.get_loc\u001b[1;34m()\u001b[0m\n",
      "File \u001b[1;32mindex.pyx:160\u001b[0m, in \u001b[0;36mpandas._libs.index.IndexEngine.get_loc\u001b[1;34m()\u001b[0m\n",
      "File \u001b[1;32mpandas\\_libs\\index_class_helper.pxi:70\u001b[0m, in \u001b[0;36mpandas._libs.index.Int64Engine._check_type\u001b[1;34m()\u001b[0m\n",
      "\u001b[1;31mKeyError\u001b[0m: 'gait_%'",
      "\nThe above exception was the direct cause of the following exception:\n",
      "\u001b[1;31mKeyError\u001b[0m                                  Traceback (most recent call last)",
      "Cell \u001b[1;32mIn[22], line 1\u001b[0m\n\u001b[1;32m----> 1\u001b[0m GRFz \u001b[38;5;241m=\u001b[39m \u001b[43mgait_data\u001b[49m\u001b[43m[\u001b[49m\u001b[38;5;124;43m'\u001b[39;49m\u001b[38;5;124;43mgait_\u001b[39;49m\u001b[38;5;124;43m%\u001b[39;49m\u001b[38;5;124;43m'\u001b[39;49m\u001b[43m]\u001b[49m\n\u001b[0;32m      2\u001b[0m GRFx \u001b[38;5;241m=\u001b[39m gait_data[\u001b[38;5;241m2\u001b[39m]\n\u001b[0;32m      4\u001b[0m MX_F \u001b[38;5;241m=\u001b[39m gait_data[\u001b[38;5;241m3\u001b[39m]\n",
      "File \u001b[1;32mc:\\Users\\flori\\AppData\\Local\\Programs\\Python\\Python312\\Lib\\site-packages\\pandas\\core\\frame.py:3896\u001b[0m, in \u001b[0;36mDataFrame.__getitem__\u001b[1;34m(self, key)\u001b[0m\n\u001b[0;32m   3894\u001b[0m \u001b[38;5;28;01mif\u001b[39;00m \u001b[38;5;28mself\u001b[39m\u001b[38;5;241m.\u001b[39mcolumns\u001b[38;5;241m.\u001b[39mnlevels \u001b[38;5;241m>\u001b[39m \u001b[38;5;241m1\u001b[39m:\n\u001b[0;32m   3895\u001b[0m     \u001b[38;5;28;01mreturn\u001b[39;00m \u001b[38;5;28mself\u001b[39m\u001b[38;5;241m.\u001b[39m_getitem_multilevel(key)\n\u001b[1;32m-> 3896\u001b[0m indexer \u001b[38;5;241m=\u001b[39m \u001b[38;5;28;43mself\u001b[39;49m\u001b[38;5;241;43m.\u001b[39;49m\u001b[43mcolumns\u001b[49m\u001b[38;5;241;43m.\u001b[39;49m\u001b[43mget_loc\u001b[49m\u001b[43m(\u001b[49m\u001b[43mkey\u001b[49m\u001b[43m)\u001b[49m\n\u001b[0;32m   3897\u001b[0m \u001b[38;5;28;01mif\u001b[39;00m is_integer(indexer):\n\u001b[0;32m   3898\u001b[0m     indexer \u001b[38;5;241m=\u001b[39m [indexer]\n",
      "File \u001b[1;32mc:\\Users\\flori\\AppData\\Local\\Programs\\Python\\Python312\\Lib\\site-packages\\pandas\\core\\indexes\\base.py:3797\u001b[0m, in \u001b[0;36mIndex.get_loc\u001b[1;34m(self, key)\u001b[0m\n\u001b[0;32m   3792\u001b[0m     \u001b[38;5;28;01mif\u001b[39;00m \u001b[38;5;28misinstance\u001b[39m(casted_key, \u001b[38;5;28mslice\u001b[39m) \u001b[38;5;129;01mor\u001b[39;00m (\n\u001b[0;32m   3793\u001b[0m         \u001b[38;5;28misinstance\u001b[39m(casted_key, abc\u001b[38;5;241m.\u001b[39mIterable)\n\u001b[0;32m   3794\u001b[0m         \u001b[38;5;129;01mand\u001b[39;00m \u001b[38;5;28many\u001b[39m(\u001b[38;5;28misinstance\u001b[39m(x, \u001b[38;5;28mslice\u001b[39m) \u001b[38;5;28;01mfor\u001b[39;00m x \u001b[38;5;129;01min\u001b[39;00m casted_key)\n\u001b[0;32m   3795\u001b[0m     ):\n\u001b[0;32m   3796\u001b[0m         \u001b[38;5;28;01mraise\u001b[39;00m InvalidIndexError(key)\n\u001b[1;32m-> 3797\u001b[0m     \u001b[38;5;28;01mraise\u001b[39;00m \u001b[38;5;167;01mKeyError\u001b[39;00m(key) \u001b[38;5;28;01mfrom\u001b[39;00m \u001b[38;5;21;01merr\u001b[39;00m\n\u001b[0;32m   3798\u001b[0m \u001b[38;5;28;01mexcept\u001b[39;00m \u001b[38;5;167;01mTypeError\u001b[39;00m:\n\u001b[0;32m   3799\u001b[0m     \u001b[38;5;66;03m# If we have a listlike key, _check_indexing_error will raise\u001b[39;00m\n\u001b[0;32m   3800\u001b[0m     \u001b[38;5;66;03m#  InvalidIndexError. Otherwise we fall through and re-raise\u001b[39;00m\n\u001b[0;32m   3801\u001b[0m     \u001b[38;5;66;03m#  the TypeError.\u001b[39;00m\n\u001b[0;32m   3802\u001b[0m     \u001b[38;5;28mself\u001b[39m\u001b[38;5;241m.\u001b[39m_check_indexing_error(key)\n",
      "\u001b[1;31mKeyError\u001b[0m: 'gait_%'"
     ]
    }
   ],
   "source": [
    "GRFz = gait_data['gait_%']\n",
    "GRFx = gait_data[2]\n",
    "\n",
    "MX_F = gait_data[3]\n",
    "Flex_Ext_F = gait_data[4]\n",
    "\n",
    "MX_K = gait_data[5]\n",
    "alpha_K = gait_data[6]\n",
    "\n",
    "MX_H = gait_data[7]\n",
    "alpha_H = gait_data[8]\n",
    "\n",
    "alpha_H"
   ]
  },
  {
   "cell_type": "code",
   "execution_count": 12,
   "metadata": {},
   "outputs": [
    {
     "ename": "TypeError",
     "evalue": "loop of ufunc does not support argument 0 of type str which has no callable deg2rad method",
     "output_type": "error",
     "traceback": [
      "\u001b[1;31m---------------------------------------------------------------------------\u001b[0m",
      "\u001b[1;31mAttributeError\u001b[0m                            Traceback (most recent call last)",
      "\u001b[1;31mAttributeError\u001b[0m: 'str' object has no attribute 'deg2rad'",
      "\nThe above exception was the direct cause of the following exception:\n",
      "\u001b[1;31mTypeError\u001b[0m                                 Traceback (most recent call last)",
      "Cell \u001b[1;32mIn[12], line 2\u001b[0m\n\u001b[0;32m      1\u001b[0m \u001b[38;5;66;03m# Transform angles\u001b[39;00m\n\u001b[1;32m----> 2\u001b[0m q1_gait \u001b[38;5;241m=\u001b[39m \u001b[43mnp\u001b[49m\u001b[38;5;241;43m.\u001b[39;49m\u001b[43mdeg2rad\u001b[49m\u001b[43m(\u001b[49m\u001b[43malpha_H\u001b[49m\u001b[43m)\u001b[49m \u001b[38;5;241m+\u001b[39m \u001b[38;5;241m3\u001b[39m\u001b[38;5;241m/\u001b[39m\u001b[38;5;241m2\u001b[39m \u001b[38;5;241m*\u001b[39m np\u001b[38;5;241m.\u001b[39mpi\n\u001b[0;32m      3\u001b[0m q2_gait \u001b[38;5;241m=\u001b[39m q1_gait \u001b[38;5;241m-\u001b[39m np\u001b[38;5;241m.\u001b[39mdeg2rad(alpha_K)\n",
      "File \u001b[1;32mc:\\Users\\flori\\AppData\\Local\\Programs\\Python\\Python312\\Lib\\site-packages\\pandas\\core\\generic.py:2102\u001b[0m, in \u001b[0;36mNDFrame.__array_ufunc__\u001b[1;34m(self, ufunc, method, *inputs, **kwargs)\u001b[0m\n\u001b[0;32m   2098\u001b[0m \u001b[38;5;129m@final\u001b[39m\n\u001b[0;32m   2099\u001b[0m \u001b[38;5;28;01mdef\u001b[39;00m \u001b[38;5;21m__array_ufunc__\u001b[39m(\n\u001b[0;32m   2100\u001b[0m     \u001b[38;5;28mself\u001b[39m, ufunc: np\u001b[38;5;241m.\u001b[39mufunc, method: \u001b[38;5;28mstr\u001b[39m, \u001b[38;5;241m*\u001b[39minputs: Any, \u001b[38;5;241m*\u001b[39m\u001b[38;5;241m*\u001b[39mkwargs: Any\n\u001b[0;32m   2101\u001b[0m ):\n\u001b[1;32m-> 2102\u001b[0m     \u001b[38;5;28;01mreturn\u001b[39;00m \u001b[43marraylike\u001b[49m\u001b[38;5;241;43m.\u001b[39;49m\u001b[43marray_ufunc\u001b[49m\u001b[43m(\u001b[49m\u001b[38;5;28;43mself\u001b[39;49m\u001b[43m,\u001b[49m\u001b[43m \u001b[49m\u001b[43mufunc\u001b[49m\u001b[43m,\u001b[49m\u001b[43m \u001b[49m\u001b[43mmethod\u001b[49m\u001b[43m,\u001b[49m\u001b[43m \u001b[49m\u001b[38;5;241;43m*\u001b[39;49m\u001b[43minputs\u001b[49m\u001b[43m,\u001b[49m\u001b[43m \u001b[49m\u001b[38;5;241;43m*\u001b[39;49m\u001b[38;5;241;43m*\u001b[39;49m\u001b[43mkwargs\u001b[49m\u001b[43m)\u001b[49m\n",
      "File \u001b[1;32mc:\\Users\\flori\\AppData\\Local\\Programs\\Python\\Python312\\Lib\\site-packages\\pandas\\core\\arraylike.py:396\u001b[0m, in \u001b[0;36marray_ufunc\u001b[1;34m(self, ufunc, method, *inputs, **kwargs)\u001b[0m\n\u001b[0;32m    393\u001b[0m \u001b[38;5;28;01melif\u001b[39;00m \u001b[38;5;28mself\u001b[39m\u001b[38;5;241m.\u001b[39mndim \u001b[38;5;241m==\u001b[39m \u001b[38;5;241m1\u001b[39m:\n\u001b[0;32m    394\u001b[0m     \u001b[38;5;66;03m# ufunc(series, ...)\u001b[39;00m\n\u001b[0;32m    395\u001b[0m     inputs \u001b[38;5;241m=\u001b[39m \u001b[38;5;28mtuple\u001b[39m(extract_array(x, extract_numpy\u001b[38;5;241m=\u001b[39m\u001b[38;5;28;01mTrue\u001b[39;00m) \u001b[38;5;28;01mfor\u001b[39;00m x \u001b[38;5;129;01min\u001b[39;00m inputs)\n\u001b[1;32m--> 396\u001b[0m     result \u001b[38;5;241m=\u001b[39m \u001b[38;5;28;43mgetattr\u001b[39;49m\u001b[43m(\u001b[49m\u001b[43mufunc\u001b[49m\u001b[43m,\u001b[49m\u001b[43m \u001b[49m\u001b[43mmethod\u001b[49m\u001b[43m)\u001b[49m\u001b[43m(\u001b[49m\u001b[38;5;241;43m*\u001b[39;49m\u001b[43minputs\u001b[49m\u001b[43m,\u001b[49m\u001b[43m \u001b[49m\u001b[38;5;241;43m*\u001b[39;49m\u001b[38;5;241;43m*\u001b[39;49m\u001b[43mkwargs\u001b[49m\u001b[43m)\u001b[49m\n\u001b[0;32m    397\u001b[0m \u001b[38;5;28;01melse\u001b[39;00m:\n\u001b[0;32m    398\u001b[0m     \u001b[38;5;66;03m# ufunc(dataframe)\u001b[39;00m\n\u001b[0;32m    399\u001b[0m     \u001b[38;5;28;01mif\u001b[39;00m method \u001b[38;5;241m==\u001b[39m \u001b[38;5;124m\"\u001b[39m\u001b[38;5;124m__call__\u001b[39m\u001b[38;5;124m\"\u001b[39m \u001b[38;5;129;01mand\u001b[39;00m \u001b[38;5;129;01mnot\u001b[39;00m kwargs:\n\u001b[0;32m    400\u001b[0m         \u001b[38;5;66;03m# for np.<ufunc>(..) calls\u001b[39;00m\n\u001b[0;32m    401\u001b[0m         \u001b[38;5;66;03m# kwargs cannot necessarily be handled block-by-block, so only\u001b[39;00m\n\u001b[0;32m    402\u001b[0m         \u001b[38;5;66;03m# take this path if there are no kwargs\u001b[39;00m\n",
      "\u001b[1;31mTypeError\u001b[0m: loop of ufunc does not support argument 0 of type str which has no callable deg2rad method"
     ]
    }
   ],
   "source": [
    "# Transform angles\n",
    "q1_gait = np.deg2rad(alpha_H) + 3/2 * np.pi\n",
    "q2_gait = q1_gait - np.deg2rad(alpha_K)"
   ]
  },
  {
   "cell_type": "code",
   "execution_count": null,
   "metadata": {},
   "outputs": [],
   "source": [
    "# Time step\n",
    "dt = 1\n",
    "t_eval = np.arange(0, 101, dt)\n",
    "\n",
    "# Initial conditions\n",
    "q1_0 = \n",
    "q2_0 = 0.01\n",
    "w1_0 = 0\n",
    "w2_0 = 0"
   ]
  },
  {
   "cell_type": "code",
   "execution_count": null,
   "metadata": {},
   "outputs": [],
   "source": [
    "# Function to define the ODE\n",
    "def leg_model(t, y):\n",
    "    q1, q2, w1, w2 = y\n",
    "    \n",
    "    domega1 = w1_dot[0].subs({q1: q1_0, q2: q2_0, w1: w1_0, w2: w2_0})\n",
    "    domega2 = w2_dot[0].subs({q1: q1_0, q2: q2_0, w1: w1_0, w2: w2_0})\n",
    "\n",
    "    dq1 = w1\n",
    "    dq2 = w2\n",
    "\n",
    "    return [domega1, domega2, dq1, dq2]\n"
   ]
  },
  {
   "cell_type": "code",
   "execution_count": null,
   "metadata": {},
   "outputs": [],
   "source": []
  }
 ],
 "metadata": {
  "kernelspec": {
   "display_name": "Python 3",
   "language": "python",
   "name": "python3"
  },
  "language_info": {
   "codemirror_mode": {
    "name": "ipython",
    "version": 3
   },
   "file_extension": ".py",
   "mimetype": "text/x-python",
   "name": "python",
   "nbconvert_exporter": "python",
   "pygments_lexer": "ipython3",
   "version": "3.12.0"
  }
 },
 "nbformat": 4,
 "nbformat_minor": 2
}
