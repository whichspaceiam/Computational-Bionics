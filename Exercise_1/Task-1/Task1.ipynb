{
 "cells": [
  {
   "cell_type": "markdown",
   "metadata": {},
   "source": [
    "# Computational Bionics: Project Exercise 1\n",
    "\n",
    "Group members:\n",
    "- Yash Waware\n",
    "- Julian Lork\n",
    "- Florian Frech (12308544)"
   ]
  },
  {
   "cell_type": "markdown",
   "metadata": {},
   "source": [
    "## Task 1: Modeling the Leg"
   ]
  },
  {
   "cell_type": "markdown",
   "metadata": {},
   "source": [
    "### 1.1 Description"
   ]
  },
  {
   "cell_type": "markdown",
   "metadata": {},
   "source": [
    "The following section consider the model of the leg, described by an ODE model.\n",
    "\n",
    "A test person with a body mass of $m_b = 100$ kg is chosen.\n",
    "\n",
    "Following state variables are involved:\n",
    "- $q_1$: Extension angle of the **hip** around then transversal axis ($xy$-plane)\n",
    "- $\\omega_1$: Angular velocity of the tight\n",
    "- $q_2$: Rotation angle of the **knee** around the transversal axis ($xy$-plane) \n",
    "- $\\omega_2$ Angular velocity of the shank\n",
    "\n",
    "The segement masses are considered as point masses in the middle of each segment."
   ]
  },
  {
   "cell_type": "markdown",
   "metadata": {},
   "source": [
    "![](LegModel.png)"
   ]
  },
  {
   "cell_type": "markdown",
   "metadata": {},
   "source": [
    "|Variable|Description|\n",
    "|--------|-----------|\n",
    "|$r_H$|Position vector of the hip to the reference system|\n",
    "|$H$|Hip Joint|\n",
    "|$K$|Knee Joint|\n",
    "|$O$|Tight|\n",
    "|$U$|Shank|\n",
    "|$S$|Centre of Mass of the Foot|\n",
    "|$SO$|Centre of Mass of the Tight|\n",
    "|$SU$|Centre of Mass Shank|\n",
    "|$m_1$|Tight Mass|\n",
    "|$m_2$|Shank Mass|\n",
    "|$m_3$|Foot Point Mass|\n",
    "|$J_1$|Moment of Inertia of the Tight|\n",
    "|$J_2$|Moment of Inertia of the Shank|\n",
    "|$\\alpha_H$|Flexion / Extension Angle of the Hip|\n",
    "|$\\alpha_K$|Flexion / Extension Angle of the Knee|\n",
    "\n",
    "\n",
    "Following relations for the partial masses of the legs are assumed:\n",
    "\n",
    "|Segment| Mass m [kg]|\n",
    "|------|--------------|\n",
    "|Tight|  $m_1 = 0.090 \\cdot m_b + 0.73 = 9.73$|\n",
    "|Shank| $m_2 = 0.055 \\cdot m_b - 0.43 = 5.07$|\n",
    "|Foot| $m_3 = 0.001 \\cdot m_b + 0.34 = 0.44$|"
   ]
  },
  {
   "cell_type": "markdown",
   "metadata": {},
   "source": [
    "### 1.2 Simplified Box Model\n",
    "\n",
    "<!-- ![](BoxModelLegModel.png) -->\n",
    "\n",
    "**Input:**\n",
    "- anatomical data\n",
    "- segment weights\n",
    "- proportions of the limbs\n",
    "- length and position of the segments\n",
    "- gait data for one cycle\n",
    "- Flexion / Extension **angles** of the ankle, knee, and hip joint\n",
    "\n",
    "**Equations:**\n",
    "\n",
    "**Output:**\n",
    "- Ground reaction **forces** in y- and x- direction\n",
    "- **Moments** around foot, knee, and hip joints\n"
   ]
  },
  {
   "cell_type": "markdown",
   "metadata": {},
   "source": [
    "### 1.3 Setting\n",
    "- Length of the Tight: $l_O = 0.410$ m\n",
    "- Length of the Shank: $l_U = 0.415$ m\n",
    "\n",
    "https://personal.cityu.edu.hk/meachan/Online%20Anthropometry/Chapter2/Ch2-5.htm\n",
    "\n",
    "https://pmc.ncbi.nlm.nih.gov/articles/PMC5305206/"
   ]
  },
  {
   "cell_type": "code",
   "execution_count": 197,
   "metadata": {},
   "outputs": [],
   "source": [
    "# Imports\n",
    "from scipy.integrate import solve_ivp\n",
    "from scipy.interpolate import interp1d\n",
    "import numpy as np\n",
    "import sympy as sp\n",
    "import pandas as pd\n",
    "import matplotlib.pyplot as plt"
   ]
  },
  {
   "cell_type": "code",
   "execution_count": 198,
   "metadata": {},
   "outputs": [],
   "source": [
    "# define numerical values\n",
    "l_O_val = 0.410 # length of the tigh [m]\n",
    "l_U_val = 0.415 # length of the shank [m]\n",
    "\n",
    "m_body = 100 # mass of the body [kg]\n",
    "\n",
    "mO_val = 9.73 # mass of the thigh [kg]\n",
    "mU_val = 5.07 # mass of the shank [kg]\n",
    "mF_val = 0.44 # mass of the foot [kg]\n",
    "\n",
    "g_val = 9.81 # gravity [m/s^2]"
   ]
  },
  {
   "cell_type": "code",
   "execution_count": 222,
   "metadata": {},
   "outputs": [],
   "source": [
    "# define symbolic variables\n",
    "l_O, l_U, q1, q2, t = sp.symbols('l_O l_U q1 q2 t')\n",
    "omega1, omega2 = sp.symbols(r'\\omega_1 \\omega_2')\n",
    "omega1_dot, omega2_dot = sp.symbols(r'\\dot{\\omega}_1 \\dot{omega}_2')\n",
    "mO, mU, mF = sp.symbols('m_O m_U m_F')\n",
    "g = sp.symbols('g')\n",
    "\n",
    "# define angles q as a function of time\n",
    "q1 = sp.Function('q1')(t)\n",
    "q2 = sp.Function('q2')(t)\n",
    "\n",
    "# define angular velocities w as the derivative of the angles\n",
    "w1 = q1.diff(t)\n",
    "w2 = q2.diff(t)\n",
    "\n",
    "# define angular accelerations as the derivative of the angular velocities\n",
    "dot_w1 = w1.diff(t)\n",
    "dot_w2 = w2.diff(t)"
   ]
  },
  {
   "cell_type": "markdown",
   "metadata": {},
   "source": [
    "### 1.4 Derivation "
   ]
  },
  {
   "cell_type": "markdown",
   "metadata": {},
   "source": [
    "**Relation between common measured joint angle and the chosen generalized coordinates**\n",
    "\n",
    "$$q_1 = \\alpha_H + \\frac{3}{2}\\pi$$\n",
    "\n",
    "$$q_2 = q_1 - \\alpha_K = \\alpha_H + \\frac{3}{2}\\pi - \\alpha_K$$"
   ]
  },
  {
   "cell_type": "markdown",
   "metadata": {},
   "source": [
    "**Position vectors** to the centre of mass of tight $SO$, shank $SU$, and foot $S$ with respect to the hip $H$\n",
    "\n",
    "https://scienceworld.wolfram.com/physics/DoublePendulum.html\n",
    "\n",
    "https://en.wikipedia.org/wiki/Double_pendulum\n",
    "\n",
    "\n",
    "$$\n",
    "\\mathbf{r}_{SO} = 0.5 \\cdot l_O \\cdot \\begin{bmatrix} \n",
    "                   \\cos q_1 \\\\\n",
    "                   \\sin q_1 \\\\\n",
    "                   0 \\end{bmatrix} \\quad \\quad\n",
    "\n",
    "\\mathbf{r}_{SU} = \\begin{bmatrix}\n",
    "                   l_O \\cos q_1 + 0.5 \\cdot l_U \\cos q_2 \\\\\n",
    "                   l_O \\sin q_1 + 0.5 \\cdot l_U \\sin q_2 \\\\\n",
    "                   0 \\end{bmatrix} \\quad \\quad\n",
    "\n",
    "\\mathbf{r}_{S} = \\begin{bmatrix}\n",
    "                   l_O \\cos q_1 + l_U \\cos q_2 \\\\\n",
    "                   l_O \\sin q_1 + l_U \\sin q_2 \\\\\n",
    "                   0 \\end{bmatrix} \\quad \\quad                   \n",
    "$$"
   ]
  },
  {
   "cell_type": "code",
   "execution_count": 223,
   "metadata": {},
   "outputs": [],
   "source": [
    "# Position vectors\n",
    "r_SO = sp.Matrix([0.5 * l_O * sp.cos(q1), 0.5 * l_O *sp.sin(q1), 0])\n",
    "r_SU = sp.Matrix([l_O * sp.cos(q1) + 0.5 * l_U * sp.cos(q2), l_O * sp.sin(q1) + 0.5 * l_U * sp.sin(q2), 0])\n",
    "r_S = sp.Matrix([l_O * sp.cos(q1) + l_U * sp.cos(q2), l_O * sp.sin(q1) + l_U * sp.sin(q2), 0])"
   ]
  },
  {
   "cell_type": "markdown",
   "metadata": {},
   "source": [
    "<!-- #![](SketchTask1.png) -->"
   ]
  },
  {
   "cell_type": "markdown",
   "metadata": {},
   "source": [
    "**Velocity vectors** to the centre of mass of tight $SO$, shank $SU$, and foot $S$\n",
    "\n",
    "$$\n",
    "\\mathbf{v}_{SO} = 0.5 \\cdot l_O \\cdot \\dot{q}_1\\begin{bmatrix} - \\sin q_1 \\\\ \\cos q_1 \\\\ 0 \\end{bmatrix} = 0.5 \\cdot l_O \\cdot \\omega_1\\begin{bmatrix} - \\sin q_1 \\\\ \\cos q_1 \\\\ 0 \\end{bmatrix}\n",
    "$$\n",
    "\n",
    "$$\n",
    "\\mathbf{v}_{SU} = l_O \\cdot \\dot{q}_1 \\begin{bmatrix}  - \\sin q_1 \\\\ \\cos q_1 \\\\ 0 \\end{bmatrix} + 0.5 \\cdot l_U \\cdot \\dot{q}_2 \\begin{bmatrix}  - \\sin q_2 \\\\ \\cos q_2 \\\\ 0 \\end{bmatrix} =\n",
    " l_O \\cdot \\omega_1 \\begin{bmatrix}  - \\sin q_1 \\\\ \\cos q_1 \\\\ 0 \\end{bmatrix} + 0.5 \\cdot l_U \\cdot \\omega_2 \\begin{bmatrix}  - \\sin q_2 \\\\ \\cos q_2 \\\\ 0 \\end{bmatrix}\n",
    "$$\n",
    "\n",
    "$$\n",
    "\\mathbf{v}_{S} = l_O \\cdot \\dot{q}_1 \\begin{bmatrix}  - \\sin q_1 \\\\ \\cos q_1 \\\\ 0 \\end{bmatrix} + l_U \\cdot \\dot{q}_2 \\begin{bmatrix}  - \\sin q_2 \\\\ \\cos q_2 \\\\ 0 \\end{bmatrix}\n",
    "= l_O \\cdot \\omega_1 \\begin{bmatrix}  - \\sin q_1 \\\\ \\cos q_1 \\\\ 0 \\end{bmatrix} + l_U \\cdot \\omega_2 \\begin{bmatrix}  - \\sin q_2 \\\\ \\cos q_2 \\\\ 0 \\end{bmatrix}\n",
    "$$"
   ]
  },
  {
   "cell_type": "code",
   "execution_count": 243,
   "metadata": {},
   "outputs": [],
   "source": [
    "# Define velocity vectors\n",
    "v_SO = r_SO.diff(t)\n",
    "v_SU = r_SU.diff(t)\n",
    "v_S = r_S.diff(t)"
   ]
  },
  {
   "cell_type": "markdown",
   "metadata": {},
   "source": [
    "**Kinetic Energy T**\n",
    "\n",
    "$$\n",
    "T_1 = \\frac{1}{2} m_O \\mathbf{v}_{SO}^T \\mathbf{v}_{SO}\n",
    "$$\n",
    "\n",
    "$$\n",
    "T_2 = \\frac{1}{2} m_U \\mathbf{v}_{SU}^T \\mathbf{v}_{SU}\n",
    "$$\n",
    "\n",
    "$$\n",
    "T_3 = \\frac{1}{2} m_F \\mathbf{v}_{S}^T \\mathbf{v}_{S}\n",
    "$$"
   ]
  },
  {
   "cell_type": "code",
   "execution_count": 244,
   "metadata": {},
   "outputs": [],
   "source": [
    "# Kinetic energy\n",
    "T1 = 0.5 * mO * v_SO.dot(v_SO)\n",
    "T2 = 0.5 * mU * v_SU.dot(v_SU)\n",
    "T3 = 0.5 * mF * v_S.dot(v_S)\n",
    "T = T1 + T2 + T3"
   ]
  },
  {
   "cell_type": "markdown",
   "metadata": {},
   "source": [
    "**Potential Energy V**\n",
    "\n",
    "$$\n",
    "V_1 = m_O \\cdot g \\cdot 0.5 \\cdot l_O \\cdot \\sin q_1\n",
    "$$\n",
    "\n",
    "$$\n",
    "V_2 = m_U \\cdot g \\cdot ( l_O \\sin q_1 + 0.5 \\cdot l_U \\sin q_2)\n",
    "$$\n",
    "\n",
    "$$\n",
    "V_3 = m_F \\cdot g \\cdot ( l_O \\sin q_1 + \\cdot l_U \\sin q_2)\n",
    "$$"
   ]
  },
  {
   "cell_type": "code",
   "execution_count": 245,
   "metadata": {},
   "outputs": [],
   "source": [
    "# Potential energy\n",
    "V1 = mO * g * r_SO[1]\n",
    "V2 = mU * g * r_SU[1]\n",
    "V3 = mF * g * r_S[1]\n",
    "V = V1 + V2 + V3"
   ]
  },
  {
   "cell_type": "markdown",
   "metadata": {},
   "source": [
    "**Lagrange Function**\n",
    "\n",
    "$$L = T - V$$\n",
    "\n",
    "$$\n",
    "L = T_1 + T_2 + T_3 - V_1 - V_2 - V_3\n",
    "$$\n",
    "\n",
    "$$\n",
    "L = \\frac{1}{2} \\left[ m_O \\mathbf{v}_{SO}^T \\mathbf{v}_{SO} + m_U \\mathbf{v}_{SU}^T \\mathbf{v}_{SU} + m_F \\mathbf{v}_{S}^T \\mathbf{v}_{S} \\right]\n",
    "- g \\cdot \\left[ m_O \\cdot 0.5 \\cdot l_O \\cdot \\sin q_1 +  m_U \\cdot ( l_O \\sin q_1 + 0.5 \\cdot l_U \\sin q_2) + m_F \\cdot ( l_O \\sin q_1 + \\cdot l_U \\sin q_2) \\right]\n",
    "$$\n"
   ]
  },
  {
   "cell_type": "markdown",
   "metadata": {},
   "source": [
    "**Approach:**\n",
    "$$\\frac{\\partial}{\\partial t} \\left(\\frac{\\partial L}{\\partial \\dot{q}_i} - \\frac{\\partial L}{\\partial q_i} \\right) = Q_i$$\n",
    "\n",
    "with $ \\dot{q}_i = \\omega_i$:"
   ]
  },
  {
   "cell_type": "code",
   "execution_count": 248,
   "metadata": {},
   "outputs": [
    {
     "data": {
      "text/latex": [
       "$\\displaystyle - 0.5 g l_{O} m_{O} \\sin{\\left(q_{1}{\\left(t \\right)} \\right)} - g m_{F} \\left(l_{O} \\sin{\\left(q_{1}{\\left(t \\right)} \\right)} + l_{U} \\sin{\\left(q_{2}{\\left(t \\right)} \\right)}\\right) - g m_{U} \\left(l_{O} \\sin{\\left(q_{1}{\\left(t \\right)} \\right)} + 0.5 l_{U} \\sin{\\left(q_{2}{\\left(t \\right)} \\right)}\\right) + 0.5 m_{F} \\left(\\left(- \\omega_{1} l_{O} \\sin{\\left(q_{1}{\\left(t \\right)} \\right)} - \\omega_{2} l_{U} \\sin{\\left(q_{2}{\\left(t \\right)} \\right)}\\right)^{2} + \\left(\\omega_{1} l_{O} \\cos{\\left(q_{1}{\\left(t \\right)} \\right)} + \\omega_{2} l_{U} \\cos{\\left(q_{2}{\\left(t \\right)} \\right)}\\right)^{2}\\right) + 0.5 m_{O} \\left(0.25 \\omega_{1}^{2} l_{O}^{2} \\sin^{2}{\\left(q_{1}{\\left(t \\right)} \\right)} + 0.25 \\omega_{1}^{2} l_{O}^{2} \\cos^{2}{\\left(q_{1}{\\left(t \\right)} \\right)}\\right) + 0.5 m_{U} \\left(\\left(- \\omega_{1} l_{O} \\sin{\\left(q_{1}{\\left(t \\right)} \\right)} - 0.5 \\omega_{2} l_{U} \\sin{\\left(q_{2}{\\left(t \\right)} \\right)}\\right)^{2} + \\left(\\omega_{1} l_{O} \\cos{\\left(q_{1}{\\left(t \\right)} \\right)} + 0.5 \\omega_{2} l_{U} \\cos{\\left(q_{2}{\\left(t \\right)} \\right)}\\right)^{2}\\right)$"
      ],
      "text/plain": [
       "-0.5*g*l_O*m_O*sin(q1(t)) - g*m_F*(l_O*sin(q1(t)) + l_U*sin(q2(t))) - g*m_U*(l_O*sin(q1(t)) + 0.5*l_U*sin(q2(t))) + 0.5*m_F*((-\\omega_1*l_O*sin(q1(t)) - \\omega_2*l_U*sin(q2(t)))**2 + (\\omega_1*l_O*cos(q1(t)) + \\omega_2*l_U*cos(q2(t)))**2) + 0.5*m_O*(0.25*\\omega_1**2*l_O**2*sin(q1(t))**2 + 0.25*\\omega_1**2*l_O**2*cos(q1(t))**2) + 0.5*m_U*((-\\omega_1*l_O*sin(q1(t)) - 0.5*\\omega_2*l_U*sin(q2(t)))**2 + (\\omega_1*l_O*cos(q1(t)) + 0.5*\\omega_2*l_U*cos(q2(t)))**2)"
      ]
     },
     "execution_count": 248,
     "metadata": {},
     "output_type": "execute_result"
    }
   ],
   "source": [
    "# Lagrangian\n",
    "L = T - V\n",
    "\n",
    "L = L.subs({q1.diff(t): omega1, q2.diff(t): omega2})\n",
    "L"
   ]
  },
  {
   "cell_type": "code",
   "execution_count": null,
   "metadata": {},
   "outputs": [],
   "source": [
    "# Derivatives: dL / dw_i\n",
    "dLdomega1 = sp.diff(L, omega1)\n",
    "dLdomega2 = sp.diff(L, omega2)\n",
    "\n",
    "d"
   ]
  },
  {
   "cell_type": "code",
   "execution_count": null,
   "metadata": {},
   "outputs": [],
   "source": [
    "# Derivatives: d/dt (dL / dw_i)\n",
    "ddt_dLdw1 = sp.diff(dLdw1, t)\n",
    "ddt_dLdw2 = sp.diff(dLdw2, t)\n",
    "\n",
    "# Derivatives: dL / dq_i\n",
    "dLdq1 = sp.diff(L, q1)\n",
    "dLdq2 = sp.diff(L, q2)"
   ]
  },
  {
   "cell_type": "code",
   "execution_count": null,
   "metadata": {},
   "outputs": [],
   "source": [
    "# # Lagrangian\n",
    "# L = T - V\n",
    "\n",
    "# # Derivatives\n",
    "# dLdw1 = sp.diff(L, w1).simplify()\n",
    "# dLdw2 = sp.diff(L, w2).simplify()\n",
    "# dLdq1 = sp.diff(L, q1).simplify()\n",
    "# dLdq2 = sp.diff(L, q2).simplify()\n",
    "\n",
    "# # Time derivatives of dL/dw_i\n",
    "# \n",
    "# ddt_dLdw1 = sp.diff(dLdw1, q1) * w1 + sp.diff(dLdw1, q2) * w2 + sp.diff(dLdw1, w1) * w1_dot + sp.diff(dLdw1, w2) * w2_dot\n",
    "# ddt_dLdw2 = sp.diff(dLdw2, q1) * w1 + sp.diff(dLdw2, q2) * w2 + sp.diff(dLdw2, w1) * w1_dot + sp.diff(dLdw2, w2) * w2_dot"
   ]
  },
  {
   "cell_type": "code",
   "execution_count": 194,
   "metadata": {},
   "outputs": [
    {
     "data": {
      "text/latex": [
       "$\\displaystyle g \\left(l_{O} m_{F} \\cos{\\left(q_{1} \\right)} + 0.5 l_{O} m_{O} \\cos{\\left(q_{1} \\right)} + l_{O} m_{U} \\cos{\\left(q_{1} \\right)}\\right) + 1.0 l_{O} l_{U} m_{F} w_{1} w_{2} \\sin{\\left(q_{1} - q_{2} \\right)} + 0.5 l_{O} l_{U} m_{U} w_{1} w_{2} \\sin{\\left(q_{1} - q_{2} \\right)}$"
      ],
      "text/plain": [
       "g*(l_O*m_F*cos(q1) + 0.5*l_O*m_O*cos(q1) + l_O*m_U*cos(q1)) + 1.0*l_O*l_U*m_F*w_1*w_2*sin(q1 - q2) + 0.5*l_O*l_U*m_U*w_1*w_2*sin(q1 - q2)"
      ]
     },
     "execution_count": 194,
     "metadata": {},
     "output_type": "execute_result"
    }
   ],
   "source": [
    "# Equations of motion\n",
    "eq1 = ddt_dLdw1 - dLdq1\n",
    "\n",
    "eq2 = ddt_dLdw2 - dLdq2\n",
    "\n",
    "# eq1 = eq1.simplify()\n",
    "eq1"
   ]
  },
  {
   "cell_type": "code",
   "execution_count": 192,
   "metadata": {},
   "outputs": [],
   "source": [
    "# Substitute constants\n",
    "#eq1 = eq1.subs({l_O: l_O_val, l_U: l_U_val, mO: mO_val, mU: mU_val, mF: mF_val, g: g_val})\n",
    "# eq2 = eq2.subs({l_O: l_O_val, l_U: l_U_val, mO: mO_val, mU: mU_val, mF: mF_val, g: g_val})"
   ]
  },
  {
   "cell_type": "code",
   "execution_count": 187,
   "metadata": {},
   "outputs": [],
   "source": [
    "# Solve for angular accelerations\n",
    "w1_dot_sol = sp.solve(eq1, w1_dot)[0]\n",
    "w2_dot_sol = sp.solve(eq2, w2_dot)[0]\n",
    "\n",
    "# Convert to numerical functions\n",
    "domega1 = sp.lambdify((q1, q2, w1, w2), w1_dot_sol, 'numpy')\n",
    "domega2 = sp.lambdify((q1, q2, w1, w2), w2_dot_sol, 'numpy')"
   ]
  },
  {
   "cell_type": "code",
   "execution_count": 188,
   "metadata": {},
   "outputs": [
    {
     "data": {
      "text/latex": [
       "$\\displaystyle - 0.379135094467092 w_{2 dot} \\cos{\\left(q_{1} - q_{2} \\right)} - 4.15772056115389 \\cdot 10^{-17} w_{1} w_{2} \\sin{\\left(q_{1} - q_{2} \\right)} - 0.379135094467092 w_{2}^{2} \\sin{\\left(q_{1} - q_{2} \\right)} - 31.2547502245561 \\cos{\\left(q_{1} \\right)}$"
      ],
      "text/plain": [
       "-0.379135094467092*w2_dot*cos(q1 - q2) - 4.15772056115389e-17*w_1*w_2*sin(q1 - q2) - 0.379135094467092*w_2**2*sin(q1 - q2) - 31.2547502245561*cos(q1)"
      ]
     },
     "execution_count": 188,
     "metadata": {},
     "output_type": "execute_result"
    }
   ],
   "source": [
    "w1_dot_sol"
   ]
  },
  {
   "cell_type": "code",
   "execution_count": 183,
   "metadata": {},
   "outputs": [
    {
     "data": {
      "text/latex": [
       "$\\displaystyle - 1.72132159678244 w_{1 dot} - 41.1857679620385$"
      ],
      "text/plain": [
       "-1.72132159678244*w1_dot - 41.1857679620385"
      ]
     },
     "execution_count": 183,
     "metadata": {},
     "output_type": "execute_result"
    }
   ],
   "source": [
    "domega1(0, 0, 0, 0)\n",
    "domega2(0, 0, 0, 0)"
   ]
  },
  {
   "cell_type": "code",
   "execution_count": 171,
   "metadata": {},
   "outputs": [],
   "source": [
    "# Read gait data\n",
    "filename = 'gait_data.xls'\n",
    "gait_data = pd.read_excel(filename, engine='xlrd')\n",
    "\n",
    "# Extract gait data\n",
    "gait_step = np.array(gait_data[\"gait_%\"])\n",
    "GRFz = np.array(gait_data[\"GRFz[%BW]\"]) * m_body * g_val / 100\n",
    "GRFx = gait_data[\"GRFx[%BW]\"] * m_body * g_val / 100\n",
    "MX_H = np.array(gait_data[\"MX_H[Nm/kg]\"])\n",
    "MX_K = np.array(gait_data[\"MX_K[Nm/kg]\"])\n",
    "q1_gait = np.deg2rad(np.array(gait_data[\"Flex_Ext_H[deg]\"])) + 3 / 2 * np.pi\n",
    "q2_gait = q1_gait - np.deg2rad(np.array(gait_data[\"Flex_Ext_K[deg]\"]))\n",
    "\n",
    "# Interpolate the moment data\n",
    "MX_H_interp = interp1d(gait_step, MX_H, kind='cubic')\n",
    "MX_K_interp = interp1d(gait_step, MX_K, kind='cubic')\n",
    "\n",
    "# Time step\n",
    "dt = 0.01\n",
    "t_eval = np.arange(0, len(gait_step) * dt, dt)"
   ]
  },
  {
   "cell_type": "code",
   "execution_count": 173,
   "metadata": {},
   "outputs": [],
   "source": [
    "#Initial conditions\n",
    "q1_0 = q1_gait[0]\n",
    "q2_0 = q2_gait[0]\n",
    "omega1_0 = 0\n",
    "omega2_0 = 0"
   ]
  },
  {
   "cell_type": "code",
   "execution_count": 179,
   "metadata": {},
   "outputs": [],
   "source": [
    "# ODE system\n",
    "def ode_system(t, y):\n",
    "    q1, q2, omega1, omega2 = y\n",
    "\n",
    "    dq1 = omega1\n",
    "    dq2 = omega2\n",
    "    domega1 = domega1(q1, q2, omega1, omega2)\n",
    "    domega2 = domega2(q1, q2, omega1, omega2)\n",
    "\n",
    "    return [dq1, dq2, domega1, domega2]"
   ]
  },
  {
   "cell_type": "code",
   "execution_count": 178,
   "metadata": {},
   "outputs": [
    {
     "ename": "UnboundLocalError",
     "evalue": "cannot access local variable 'domega1' where it is not associated with a value",
     "output_type": "error",
     "traceback": [
      "\u001b[1;31m---------------------------------------------------------------------------\u001b[0m",
      "\u001b[1;31mUnboundLocalError\u001b[0m                         Traceback (most recent call last)",
      "Cell \u001b[1;32mIn[178], line 2\u001b[0m\n\u001b[0;32m      1\u001b[0m \u001b[38;5;66;03m# Solve ODEs\u001b[39;00m\n\u001b[1;32m----> 2\u001b[0m sol \u001b[38;5;241m=\u001b[39m solve_ivp(ode_system, [\u001b[38;5;241m0\u001b[39m, \u001b[38;5;28mlen\u001b[39m(gait_step) \u001b[38;5;241m*\u001b[39m dt], [q1_0, q2_0, omega1_0, omega2_0], t_eval\u001b[38;5;241m=\u001b[39mt_eval)\n\u001b[0;32m      4\u001b[0m \u001b[38;5;28mprint\u001b[39m(\u001b[38;5;124m\"\u001b[39m\u001b[38;5;124mDone\u001b[39m\u001b[38;5;124m\"\u001b[39m)\n",
      "File \u001b[1;32mc:\\Users\\flori\\Anaconda\\Lib\\site-packages\\scipy\\integrate\\_ivp\\ivp.py:621\u001b[0m, in \u001b[0;36msolve_ivp\u001b[1;34m(fun, t_span, y0, method, t_eval, dense_output, events, vectorized, args, **options)\u001b[0m\n\u001b[0;32m    618\u001b[0m \u001b[38;5;28;01mif\u001b[39;00m method \u001b[38;5;129;01min\u001b[39;00m METHODS:\n\u001b[0;32m    619\u001b[0m     method \u001b[38;5;241m=\u001b[39m METHODS[method]\n\u001b[1;32m--> 621\u001b[0m solver \u001b[38;5;241m=\u001b[39m method(fun, t0, y0, tf, vectorized\u001b[38;5;241m=\u001b[39mvectorized, \u001b[38;5;241m*\u001b[39m\u001b[38;5;241m*\u001b[39moptions)\n\u001b[0;32m    623\u001b[0m \u001b[38;5;28;01mif\u001b[39;00m t_eval \u001b[38;5;129;01mis\u001b[39;00m \u001b[38;5;28;01mNone\u001b[39;00m:\n\u001b[0;32m    624\u001b[0m     ts \u001b[38;5;241m=\u001b[39m [t0]\n",
      "File \u001b[1;32mc:\\Users\\flori\\Anaconda\\Lib\\site-packages\\scipy\\integrate\\_ivp\\rk.py:94\u001b[0m, in \u001b[0;36mRungeKutta.__init__\u001b[1;34m(self, fun, t0, y0, t_bound, max_step, rtol, atol, vectorized, first_step, **extraneous)\u001b[0m\n\u001b[0;32m     92\u001b[0m \u001b[38;5;28mself\u001b[39m\u001b[38;5;241m.\u001b[39mmax_step \u001b[38;5;241m=\u001b[39m validate_max_step(max_step)\n\u001b[0;32m     93\u001b[0m \u001b[38;5;28mself\u001b[39m\u001b[38;5;241m.\u001b[39mrtol, \u001b[38;5;28mself\u001b[39m\u001b[38;5;241m.\u001b[39matol \u001b[38;5;241m=\u001b[39m validate_tol(rtol, atol, \u001b[38;5;28mself\u001b[39m\u001b[38;5;241m.\u001b[39mn)\n\u001b[1;32m---> 94\u001b[0m \u001b[38;5;28mself\u001b[39m\u001b[38;5;241m.\u001b[39mf \u001b[38;5;241m=\u001b[39m \u001b[38;5;28mself\u001b[39m\u001b[38;5;241m.\u001b[39mfun(\u001b[38;5;28mself\u001b[39m\u001b[38;5;241m.\u001b[39mt, \u001b[38;5;28mself\u001b[39m\u001b[38;5;241m.\u001b[39my)\n\u001b[0;32m     95\u001b[0m \u001b[38;5;28;01mif\u001b[39;00m first_step \u001b[38;5;129;01mis\u001b[39;00m \u001b[38;5;28;01mNone\u001b[39;00m:\n\u001b[0;32m     96\u001b[0m     \u001b[38;5;28mself\u001b[39m\u001b[38;5;241m.\u001b[39mh_abs \u001b[38;5;241m=\u001b[39m select_initial_step(\n\u001b[0;32m     97\u001b[0m         \u001b[38;5;28mself\u001b[39m\u001b[38;5;241m.\u001b[39mfun, \u001b[38;5;28mself\u001b[39m\u001b[38;5;241m.\u001b[39mt, \u001b[38;5;28mself\u001b[39m\u001b[38;5;241m.\u001b[39my, \u001b[38;5;28mself\u001b[39m\u001b[38;5;241m.\u001b[39mf, \u001b[38;5;28mself\u001b[39m\u001b[38;5;241m.\u001b[39mdirection,\n\u001b[0;32m     98\u001b[0m         \u001b[38;5;28mself\u001b[39m\u001b[38;5;241m.\u001b[39merror_estimator_order, \u001b[38;5;28mself\u001b[39m\u001b[38;5;241m.\u001b[39mrtol, \u001b[38;5;28mself\u001b[39m\u001b[38;5;241m.\u001b[39matol)\n",
      "File \u001b[1;32mc:\\Users\\flori\\Anaconda\\Lib\\site-packages\\scipy\\integrate\\_ivp\\base.py:154\u001b[0m, in \u001b[0;36mOdeSolver.__init__.<locals>.fun\u001b[1;34m(t, y)\u001b[0m\n\u001b[0;32m    152\u001b[0m \u001b[38;5;28;01mdef\u001b[39;00m \u001b[38;5;21mfun\u001b[39m(t, y):\n\u001b[0;32m    153\u001b[0m     \u001b[38;5;28mself\u001b[39m\u001b[38;5;241m.\u001b[39mnfev \u001b[38;5;241m+\u001b[39m\u001b[38;5;241m=\u001b[39m \u001b[38;5;241m1\u001b[39m\n\u001b[1;32m--> 154\u001b[0m     \u001b[38;5;28;01mreturn\u001b[39;00m \u001b[38;5;28mself\u001b[39m\u001b[38;5;241m.\u001b[39mfun_single(t, y)\n",
      "File \u001b[1;32mc:\\Users\\flori\\Anaconda\\Lib\\site-packages\\scipy\\integrate\\_ivp\\base.py:23\u001b[0m, in \u001b[0;36mcheck_arguments.<locals>.fun_wrapped\u001b[1;34m(t, y)\u001b[0m\n\u001b[0;32m     22\u001b[0m \u001b[38;5;28;01mdef\u001b[39;00m \u001b[38;5;21mfun_wrapped\u001b[39m(t, y):\n\u001b[1;32m---> 23\u001b[0m     \u001b[38;5;28;01mreturn\u001b[39;00m np\u001b[38;5;241m.\u001b[39masarray(fun(t, y), dtype\u001b[38;5;241m=\u001b[39mdtype)\n",
      "Cell \u001b[1;32mIn[177], line 7\u001b[0m, in \u001b[0;36mode_system\u001b[1;34m(t, y)\u001b[0m\n\u001b[0;32m      5\u001b[0m dq1 \u001b[38;5;241m=\u001b[39m omega1\n\u001b[0;32m      6\u001b[0m dq2 \u001b[38;5;241m=\u001b[39m omega2\n\u001b[1;32m----> 7\u001b[0m domega1 \u001b[38;5;241m=\u001b[39m domega1(q1, q2, omega1, omega2) (q1, q2, omega1, omega2)\n\u001b[0;32m      8\u001b[0m domega2 \u001b[38;5;241m=\u001b[39m domega2(q1, q2, omega1, omega2) (q1, q2, omega1, omega2)\n\u001b[0;32m     10\u001b[0m \u001b[38;5;28;01mreturn\u001b[39;00m [dq1, dq2, domega1, domega2]\n",
      "\u001b[1;31mUnboundLocalError\u001b[0m: cannot access local variable 'domega1' where it is not associated with a value"
     ]
    }
   ],
   "source": [
    "# Solve ODEs\n",
    "sol = solve_ivp(ode_system, [0, len(gait_step) * dt], [q1_0, q2_0, omega1_0, omega2_0], t_eval=t_eval)\n",
    "\n",
    "print(\"Done\")"
   ]
  },
  {
   "cell_type": "markdown",
   "metadata": {},
   "source": [
    "$$\\frac{\\partial}{\\partial t} \\left(\\frac{\\partial L}{\\partial \\dot{q}_1} - \\frac{\\partial L}{\\partial q_1} \\right) = Q_1 \\quad \\quad (I)$$\n",
    "\n",
    "$$\\frac{\\partial}{\\partial t} \\left(\\frac{\\partial L}{\\partial \\dot{q}_2} - \\frac{\\partial L}{\\partial q_2} \\right) = Q_2 \\quad \\quad (II)$$\n",
    "\n",
    "with $Q_1 = M_H$ and $Q_2 = M_K$"
   ]
  },
  {
   "cell_type": "code",
   "execution_count": 126,
   "metadata": {},
   "outputs": [],
   "source": [
    "M_H, M_K, w1_dot, w2_dot  = sp.symbols(r'M_H M_K \\dot{w}_1 \\dot{w}_2')\n",
    "\n",
    "# Equations of motion for q1 and q2\n",
    "eq1 = ddt_dLdw1 - dLdq1 - M_H\n",
    "eq2 = ddt_dLdw2 - dLdq2 - M_K\n",
    "\n",
    "eq1 = eq1.subs(w1.diff(t), w1_dot).subs(w2.diff(t), w2_dot)\n",
    "eq2 = eq2.subs(w2.diff(t), w2_dot).subs(w1.diff(t), w1_dot)\n",
    "\n",
    "#eq1 = eq1.simplify()\n",
    "#eq2 = eq2.simplify()\n",
    "\n",
    "w1_dot = sp.solve(eq1, w1_dot,  simplify=True, rational=True)\n",
    "w2_dot = sp.solve(eq2, w2_dot,  simplify=True, rational=True)"
   ]
  },
  {
   "cell_type": "code",
   "execution_count": 127,
   "metadata": {},
   "outputs": [
    {
     "data": {
      "text/latex": [
       "$\\displaystyle - M_{H} + g \\left(l_{O} m_{F} \\cos{\\left(q_{1} \\right)} + 0.5 l_{O} m_{O} \\cos{\\left(q_{1} \\right)} + l_{O} m_{U} \\cos{\\left(q_{1} \\right)}\\right) + 1.0 l_{O} l_{U} m_{F} w_{1} w_{2} \\sin{\\left(q_{1} - q_{2} \\right)} + 0.5 l_{O} l_{U} m_{U} w_{1} w_{2} \\sin{\\left(q_{1} - q_{2} \\right)}$"
      ],
      "text/plain": [
       "-M_H + g*(l_O*m_F*cos(q1) + 0.5*l_O*m_O*cos(q1) + l_O*m_U*cos(q1)) + 1.0*l_O*l_U*m_F*w_1*w_2*sin(q1 - q2) + 0.5*l_O*l_U*m_U*w_1*w_2*sin(q1 - q2)"
      ]
     },
     "execution_count": 127,
     "metadata": {},
     "output_type": "execute_result"
    }
   ],
   "source": [
    "eq1"
   ]
  },
  {
   "cell_type": "markdown",
   "metadata": {},
   "source": [
    "----------------------------------------------------------"
   ]
  },
  {
   "cell_type": "code",
   "execution_count": 128,
   "metadata": {},
   "outputs": [],
   "source": [
    "import numpy as np\n",
    "import pandas as pd"
   ]
  },
  {
   "cell_type": "code",
   "execution_count": 140,
   "metadata": {},
   "outputs": [],
   "source": [
    "# read gait file\n",
    "filename = 'gait_data.xls'\n",
    "gait_data = pd.read_excel(filename, engine='xlrd')\n",
    "\n",
    "# Read Gait Data\n",
    "gait_step = np.array(gait_data[\"gait_%\"])\n",
    "GRFz = np.array(gait_data[\"GRFz[%BW]\"]) * m_body * g_val / 100\n",
    "GRFx = gait_data[\"GRFx[%BW]\"] * m_body * g_val / 100\n",
    "MX_H = np.array(gait_data[\"MX_H[Nm/kg]\"])\n",
    "MX_K = np.array(gait_data[\"MX_K[Nm/kg]\"])\n",
    "q1_gait = np.deg2rad(np.array(gait_data[\"Flex_Ext_H[deg]\"])) + 3 / 2 * np.pi\n",
    "q2_gait = q1_gait - np.deg2rad(np.array(gait_data[\"Flex_Ext_K[deg]\"]))"
   ]
  },
  {
   "cell_type": "code",
   "execution_count": null,
   "metadata": {},
   "outputs": [],
   "source": [
    "# Interpolate the moment data\n",
    "from scipy.interpolate import interp1d\n",
    "\n",
    "MX_H = interp1d(gait_step, MX_H, kind='cubic')\n",
    "MX_H = interp1d(gait_step, MX_K, kind='cubic')"
   ]
  },
  {
   "cell_type": "code",
   "execution_count": 148,
   "metadata": {},
   "outputs": [],
   "source": [
    "# Time Step\n",
    "dt = 0.01\n",
    "t_eval = np.arange(0, len(gait_step) * dt, dt)"
   ]
  },
  {
   "cell_type": "code",
   "execution_count": 149,
   "metadata": {},
   "outputs": [],
   "source": [
    "# Initial Conditions\n",
    "q1_0 = q1_gait[0]\n",
    "q2_0 = q2_gait[0]\n",
    "omega1_0 = 0\n",
    "omega2_0 = 0\n"
   ]
  },
  {
   "cell_type": "code",
   "execution_count": 152,
   "metadata": {},
   "outputs": [],
   "source": [
    "# ODE System\n",
    "def ode_system(t, y):\n",
    "    q1, q2, omega1, omega2 = y\n",
    "    \n",
    "\n",
    "\n",
    "    domega1 = sp.lambdify((q1, q2, omega1, omega2, M_H, M_K), w1_dot, 'numpy')\n",
    "    domega2 = sp.lambdify((q1, q2, omega1, omega2, M_H, M_K), w2_dot, 'numpy')\n",
    "\n",
    "    dq1 = omega1\n",
    "    dq2 = omega2\n",
    "\n",
    "    return [dq1, dq2, domega1, domega2]\n"
   ]
  },
  {
   "cell_type": "code",
   "execution_count": 153,
   "metadata": {},
   "outputs": [
    {
     "ename": "NotImplementedError",
     "evalue": "unhandled type: <class 'numpy.ndarray'>, [ 2.10394955e-01  5.99953076e-01  7.45118984e-01  6.94701285e-01\n  6.06943325e-01  5.34739767e-01  4.42566788e-01  3.17943639e-01\n  1.79433990e-01  4.99698840e-02 -4.65297432e-02 -1.08527246e-01\n -1.43472479e-01 -1.60752807e-01 -1.67495834e-01 -1.68664813e-01\n -1.68052566e-01 -1.67925323e-01 -1.72968512e-01 -1.78694776e-01\n -1.83769619e-01 -1.85151401e-01 -1.82157328e-01 -1.75516523e-01\n -1.65733609e-01 -1.55303890e-01 -1.44763574e-01 -1.36204856e-01\n -1.31452951e-01 -1.31395773e-01 -1.33618692e-01 -1.36860905e-01\n -1.40805536e-01 -1.46087786e-01 -1.51100513e-01 -1.55562028e-01\n -1.60256882e-01 -1.65625285e-01 -1.72447449e-01 -1.80994726e-01\n -1.91126351e-01 -2.05534356e-01 -2.27547189e-01 -2.56133344e-01\n -2.87934213e-01 -3.19555301e-01 -3.47355612e-01 -3.66308977e-01\n -3.71490987e-01 -3.59370201e-01 -3.27044532e-01 -2.74979379e-01\n -2.06100339e-01 -1.26483303e-01 -4.98319410e-02  7.84814965e-03\n  3.70967032e-02  3.83326363e-02  1.95510881e-02 -7.52605001e-03\n -3.02770192e-02 -3.82981778e-02 -3.27735117e-02 -2.28622060e-02\n -1.07089704e-02 -3.12074042e-03 -6.64929834e-04 -2.19193107e-04\n -1.51015023e-04 -8.48816938e-05 -8.04257293e-06  1.89063968e-05\n  2.73978607e-05  4.44674354e-06  1.12490080e-06  1.47020204e-05\n  4.37674728e-05  4.78396054e-05  6.80700563e-05  1.10565553e-05\n  9.26442286e-23 -8.57823268e-07 -3.70218463e-06  6.61744490e-23\n  9.92616735e-24  4.96308368e-24  3.72231276e-24  3.10192730e-25\n -3.87740912e-26 -4.52364397e-26 -3.23117427e-27  0.00000000e+00\n  1.81753553e-27  1.00974196e-28  1.00974196e-28 -6.31088724e-30\n  3.15544362e-30 -7.88860905e-31 -3.15544362e-30  0.00000000e+00]",
     "output_type": "error",
     "traceback": [
      "\u001b[1;31m---------------------------------------------------------------------------\u001b[0m",
      "\u001b[1;31mNotImplementedError\u001b[0m                       Traceback (most recent call last)",
      "Cell \u001b[1;32mIn[153], line 2\u001b[0m\n\u001b[0;32m      1\u001b[0m \u001b[38;5;66;03m# Solve ODEs\u001b[39;00m\n\u001b[1;32m----> 2\u001b[0m sol \u001b[38;5;241m=\u001b[39m solve_ivp(ode_system, [\u001b[38;5;241m0\u001b[39m, \u001b[38;5;28mlen\u001b[39m(gait_step) \u001b[38;5;241m*\u001b[39m dt], [q1_0, q2_0, omega1_0, omega2_0], t_eval\u001b[38;5;241m=\u001b[39mt_eval)\n",
      "File \u001b[1;32mc:\\Users\\flori\\Anaconda\\Lib\\site-packages\\scipy\\integrate\\_ivp\\ivp.py:621\u001b[0m, in \u001b[0;36msolve_ivp\u001b[1;34m(fun, t_span, y0, method, t_eval, dense_output, events, vectorized, args, **options)\u001b[0m\n\u001b[0;32m    618\u001b[0m \u001b[38;5;28;01mif\u001b[39;00m method \u001b[38;5;129;01min\u001b[39;00m METHODS:\n\u001b[0;32m    619\u001b[0m     method \u001b[38;5;241m=\u001b[39m METHODS[method]\n\u001b[1;32m--> 621\u001b[0m solver \u001b[38;5;241m=\u001b[39m method(fun, t0, y0, tf, vectorized\u001b[38;5;241m=\u001b[39mvectorized, \u001b[38;5;241m*\u001b[39m\u001b[38;5;241m*\u001b[39moptions)\n\u001b[0;32m    623\u001b[0m \u001b[38;5;28;01mif\u001b[39;00m t_eval \u001b[38;5;129;01mis\u001b[39;00m \u001b[38;5;28;01mNone\u001b[39;00m:\n\u001b[0;32m    624\u001b[0m     ts \u001b[38;5;241m=\u001b[39m [t0]\n",
      "File \u001b[1;32mc:\\Users\\flori\\Anaconda\\Lib\\site-packages\\scipy\\integrate\\_ivp\\rk.py:94\u001b[0m, in \u001b[0;36mRungeKutta.__init__\u001b[1;34m(self, fun, t0, y0, t_bound, max_step, rtol, atol, vectorized, first_step, **extraneous)\u001b[0m\n\u001b[0;32m     92\u001b[0m \u001b[38;5;28mself\u001b[39m\u001b[38;5;241m.\u001b[39mmax_step \u001b[38;5;241m=\u001b[39m validate_max_step(max_step)\n\u001b[0;32m     93\u001b[0m \u001b[38;5;28mself\u001b[39m\u001b[38;5;241m.\u001b[39mrtol, \u001b[38;5;28mself\u001b[39m\u001b[38;5;241m.\u001b[39matol \u001b[38;5;241m=\u001b[39m validate_tol(rtol, atol, \u001b[38;5;28mself\u001b[39m\u001b[38;5;241m.\u001b[39mn)\n\u001b[1;32m---> 94\u001b[0m \u001b[38;5;28mself\u001b[39m\u001b[38;5;241m.\u001b[39mf \u001b[38;5;241m=\u001b[39m \u001b[38;5;28mself\u001b[39m\u001b[38;5;241m.\u001b[39mfun(\u001b[38;5;28mself\u001b[39m\u001b[38;5;241m.\u001b[39mt, \u001b[38;5;28mself\u001b[39m\u001b[38;5;241m.\u001b[39my)\n\u001b[0;32m     95\u001b[0m \u001b[38;5;28;01mif\u001b[39;00m first_step \u001b[38;5;129;01mis\u001b[39;00m \u001b[38;5;28;01mNone\u001b[39;00m:\n\u001b[0;32m     96\u001b[0m     \u001b[38;5;28mself\u001b[39m\u001b[38;5;241m.\u001b[39mh_abs \u001b[38;5;241m=\u001b[39m select_initial_step(\n\u001b[0;32m     97\u001b[0m         \u001b[38;5;28mself\u001b[39m\u001b[38;5;241m.\u001b[39mfun, \u001b[38;5;28mself\u001b[39m\u001b[38;5;241m.\u001b[39mt, \u001b[38;5;28mself\u001b[39m\u001b[38;5;241m.\u001b[39my, \u001b[38;5;28mself\u001b[39m\u001b[38;5;241m.\u001b[39mf, \u001b[38;5;28mself\u001b[39m\u001b[38;5;241m.\u001b[39mdirection,\n\u001b[0;32m     98\u001b[0m         \u001b[38;5;28mself\u001b[39m\u001b[38;5;241m.\u001b[39merror_estimator_order, \u001b[38;5;28mself\u001b[39m\u001b[38;5;241m.\u001b[39mrtol, \u001b[38;5;28mself\u001b[39m\u001b[38;5;241m.\u001b[39matol)\n",
      "File \u001b[1;32mc:\\Users\\flori\\Anaconda\\Lib\\site-packages\\scipy\\integrate\\_ivp\\base.py:154\u001b[0m, in \u001b[0;36mOdeSolver.__init__.<locals>.fun\u001b[1;34m(t, y)\u001b[0m\n\u001b[0;32m    152\u001b[0m \u001b[38;5;28;01mdef\u001b[39;00m \u001b[38;5;21mfun\u001b[39m(t, y):\n\u001b[0;32m    153\u001b[0m     \u001b[38;5;28mself\u001b[39m\u001b[38;5;241m.\u001b[39mnfev \u001b[38;5;241m+\u001b[39m\u001b[38;5;241m=\u001b[39m \u001b[38;5;241m1\u001b[39m\n\u001b[1;32m--> 154\u001b[0m     \u001b[38;5;28;01mreturn\u001b[39;00m \u001b[38;5;28mself\u001b[39m\u001b[38;5;241m.\u001b[39mfun_single(t, y)\n",
      "File \u001b[1;32mc:\\Users\\flori\\Anaconda\\Lib\\site-packages\\scipy\\integrate\\_ivp\\base.py:23\u001b[0m, in \u001b[0;36mcheck_arguments.<locals>.fun_wrapped\u001b[1;34m(t, y)\u001b[0m\n\u001b[0;32m     22\u001b[0m \u001b[38;5;28;01mdef\u001b[39;00m \u001b[38;5;21mfun_wrapped\u001b[39m(t, y):\n\u001b[1;32m---> 23\u001b[0m     \u001b[38;5;28;01mreturn\u001b[39;00m np\u001b[38;5;241m.\u001b[39masarray(fun(t, y), dtype\u001b[38;5;241m=\u001b[39mdtype)\n",
      "Cell \u001b[1;32mIn[152], line 7\u001b[0m, in \u001b[0;36mode_system\u001b[1;34m(t, y)\u001b[0m\n\u001b[0;32m      2\u001b[0m \u001b[38;5;28;01mdef\u001b[39;00m \u001b[38;5;21mode_system\u001b[39m(t, y):\n\u001b[0;32m      3\u001b[0m     q1, q2, omega1, omega2 \u001b[38;5;241m=\u001b[39m y\n\u001b[1;32m----> 7\u001b[0m     domega1 \u001b[38;5;241m=\u001b[39m sp\u001b[38;5;241m.\u001b[39mlambdify((q1, q2, omega1, omega2, M_H, M_K), w1_dot, \u001b[38;5;124m'\u001b[39m\u001b[38;5;124mnumpy\u001b[39m\u001b[38;5;124m'\u001b[39m)\n\u001b[0;32m      8\u001b[0m     domega2 \u001b[38;5;241m=\u001b[39m sp\u001b[38;5;241m.\u001b[39mlambdify((q1, q2, omega1, omega2, M_H, M_K), w2_dot, \u001b[38;5;124m'\u001b[39m\u001b[38;5;124mnumpy\u001b[39m\u001b[38;5;124m'\u001b[39m)\n\u001b[0;32m     10\u001b[0m     dq1 \u001b[38;5;241m=\u001b[39m omega1\n",
      "File \u001b[1;32mc:\\Users\\flori\\Anaconda\\Lib\\site-packages\\sympy\\utilities\\lambdify.py:880\u001b[0m, in \u001b[0;36mlambdify\u001b[1;34m(args, expr, modules, printer, use_imps, dummify, cse, docstring_limit)\u001b[0m\n\u001b[0;32m    878\u001b[0m \u001b[38;5;28;01melse\u001b[39;00m:\n\u001b[0;32m    879\u001b[0m     cses, _expr \u001b[38;5;241m=\u001b[39m (), expr\n\u001b[1;32m--> 880\u001b[0m funcstr \u001b[38;5;241m=\u001b[39m funcprinter\u001b[38;5;241m.\u001b[39mdoprint(funcname, iterable_args, _expr, cses\u001b[38;5;241m=\u001b[39mcses)\n\u001b[0;32m    882\u001b[0m \u001b[38;5;66;03m# Collect the module imports from the code printers.\u001b[39;00m\n\u001b[0;32m    883\u001b[0m imp_mod_lines \u001b[38;5;241m=\u001b[39m []\n",
      "File \u001b[1;32mc:\\Users\\flori\\Anaconda\\Lib\\site-packages\\sympy\\utilities\\lambdify.py:1171\u001b[0m, in \u001b[0;36m_EvaluatorPrinter.doprint\u001b[1;34m(self, funcname, args, expr, cses)\u001b[0m\n\u001b[0;32m   1168\u001b[0m     \u001b[38;5;28;01melse\u001b[39;00m:\n\u001b[0;32m   1169\u001b[0m         funcbody\u001b[38;5;241m.\u001b[39mappend(\u001b[38;5;124m'\u001b[39m\u001b[38;5;132;01m{}\u001b[39;00m\u001b[38;5;124m = \u001b[39m\u001b[38;5;132;01m{}\u001b[39;00m\u001b[38;5;124m'\u001b[39m\u001b[38;5;241m.\u001b[39mformat(\u001b[38;5;28mself\u001b[39m\u001b[38;5;241m.\u001b[39m_exprrepr(s), \u001b[38;5;28mself\u001b[39m\u001b[38;5;241m.\u001b[39m_exprrepr(e)))\n\u001b[1;32m-> 1171\u001b[0m str_expr \u001b[38;5;241m=\u001b[39m _recursive_to_string(\u001b[38;5;28mself\u001b[39m\u001b[38;5;241m.\u001b[39m_exprrepr, expr)\n\u001b[0;32m   1173\u001b[0m \u001b[38;5;28;01mif\u001b[39;00m \u001b[38;5;124m'\u001b[39m\u001b[38;5;130;01m\\n\u001b[39;00m\u001b[38;5;124m'\u001b[39m \u001b[38;5;129;01min\u001b[39;00m str_expr:\n\u001b[0;32m   1174\u001b[0m     str_expr \u001b[38;5;241m=\u001b[39m \u001b[38;5;124m'\u001b[39m\u001b[38;5;124m(\u001b[39m\u001b[38;5;132;01m{}\u001b[39;00m\u001b[38;5;124m)\u001b[39m\u001b[38;5;124m'\u001b[39m\u001b[38;5;241m.\u001b[39mformat(str_expr)\n",
      "File \u001b[1;32mc:\\Users\\flori\\Anaconda\\Lib\\site-packages\\sympy\\utilities\\lambdify.py:975\u001b[0m, in \u001b[0;36m_recursive_to_string\u001b[1;34m(doprint, arg)\u001b[0m\n\u001b[0;32m    973\u001b[0m             \u001b[38;5;28;01mreturn\u001b[39;00m \u001b[38;5;124m\"\u001b[39m\u001b[38;5;124m()\u001b[39m\u001b[38;5;124m\"\u001b[39m\n\u001b[0;32m    974\u001b[0m     \u001b[38;5;28;01melse\u001b[39;00m:\n\u001b[1;32m--> 975\u001b[0m         \u001b[38;5;28;01mraise\u001b[39;00m \u001b[38;5;167;01mNotImplementedError\u001b[39;00m(\u001b[38;5;124m\"\u001b[39m\u001b[38;5;124munhandled type: \u001b[39m\u001b[38;5;132;01m%s\u001b[39;00m\u001b[38;5;124m, \u001b[39m\u001b[38;5;132;01m%s\u001b[39;00m\u001b[38;5;124m\"\u001b[39m \u001b[38;5;241m%\u001b[39m (\u001b[38;5;28mtype\u001b[39m(arg), arg))\n\u001b[0;32m    976\u001b[0m     \u001b[38;5;28;01mreturn\u001b[39;00m left \u001b[38;5;241m+\u001b[39m\u001b[38;5;124m'\u001b[39m\u001b[38;5;124m, \u001b[39m\u001b[38;5;124m'\u001b[39m\u001b[38;5;241m.\u001b[39mjoin(_recursive_to_string(doprint, e) \u001b[38;5;28;01mfor\u001b[39;00m e \u001b[38;5;129;01min\u001b[39;00m arg) \u001b[38;5;241m+\u001b[39m right\n\u001b[0;32m    977\u001b[0m \u001b[38;5;28;01melif\u001b[39;00m \u001b[38;5;28misinstance\u001b[39m(arg, \u001b[38;5;28mstr\u001b[39m):\n",
      "\u001b[1;31mNotImplementedError\u001b[0m: unhandled type: <class 'numpy.ndarray'>, [ 2.10394955e-01  5.99953076e-01  7.45118984e-01  6.94701285e-01\n  6.06943325e-01  5.34739767e-01  4.42566788e-01  3.17943639e-01\n  1.79433990e-01  4.99698840e-02 -4.65297432e-02 -1.08527246e-01\n -1.43472479e-01 -1.60752807e-01 -1.67495834e-01 -1.68664813e-01\n -1.68052566e-01 -1.67925323e-01 -1.72968512e-01 -1.78694776e-01\n -1.83769619e-01 -1.85151401e-01 -1.82157328e-01 -1.75516523e-01\n -1.65733609e-01 -1.55303890e-01 -1.44763574e-01 -1.36204856e-01\n -1.31452951e-01 -1.31395773e-01 -1.33618692e-01 -1.36860905e-01\n -1.40805536e-01 -1.46087786e-01 -1.51100513e-01 -1.55562028e-01\n -1.60256882e-01 -1.65625285e-01 -1.72447449e-01 -1.80994726e-01\n -1.91126351e-01 -2.05534356e-01 -2.27547189e-01 -2.56133344e-01\n -2.87934213e-01 -3.19555301e-01 -3.47355612e-01 -3.66308977e-01\n -3.71490987e-01 -3.59370201e-01 -3.27044532e-01 -2.74979379e-01\n -2.06100339e-01 -1.26483303e-01 -4.98319410e-02  7.84814965e-03\n  3.70967032e-02  3.83326363e-02  1.95510881e-02 -7.52605001e-03\n -3.02770192e-02 -3.82981778e-02 -3.27735117e-02 -2.28622060e-02\n -1.07089704e-02 -3.12074042e-03 -6.64929834e-04 -2.19193107e-04\n -1.51015023e-04 -8.48816938e-05 -8.04257293e-06  1.89063968e-05\n  2.73978607e-05  4.44674354e-06  1.12490080e-06  1.47020204e-05\n  4.37674728e-05  4.78396054e-05  6.80700563e-05  1.10565553e-05\n  9.26442286e-23 -8.57823268e-07 -3.70218463e-06  6.61744490e-23\n  9.92616735e-24  4.96308368e-24  3.72231276e-24  3.10192730e-25\n -3.87740912e-26 -4.52364397e-26 -3.23117427e-27  0.00000000e+00\n  1.81753553e-27  1.00974196e-28  1.00974196e-28 -6.31088724e-30\n  3.15544362e-30 -7.88860905e-31 -3.15544362e-30  0.00000000e+00]"
     ]
    }
   ],
   "source": [
    "# Solve ODEs\n",
    "sol = solve_ivp(ode_system, [0, len(gait_step) * dt], [q1_0, q2_0, omega1_0, omega2_0], t_eval=t_eval)"
   ]
  },
  {
   "cell_type": "code",
   "execution_count": null,
   "metadata": {},
   "outputs": [],
   "source": []
  }
 ],
 "metadata": {
  "kernelspec": {
   "display_name": "base",
   "language": "python",
   "name": "python3"
  },
  "language_info": {
   "codemirror_mode": {
    "name": "ipython",
    "version": 3
   },
   "file_extension": ".py",
   "mimetype": "text/x-python",
   "name": "python",
   "nbconvert_exporter": "python",
   "pygments_lexer": "ipython3",
   "version": "3.12.7"
  }
 },
 "nbformat": 4,
 "nbformat_minor": 2
}
