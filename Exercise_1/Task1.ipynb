{
 "cells": [
  {
   "cell_type": "markdown",
   "metadata": {},
   "source": [
    "# Computational Bionics: Project Exercise 1\n",
    "\n",
    "Group members:\n",
    "- Yash Waware\n",
    "- Julian Lork\n",
    "- Florian Frech"
   ]
  },
  {
   "cell_type": "markdown",
   "metadata": {},
   "source": [
    "## Task 1: Modeling the Leg"
   ]
  },
  {
   "cell_type": "markdown",
   "metadata": {},
   "source": [
    "### 1.1 Description"
   ]
  },
  {
   "cell_type": "markdown",
   "metadata": {},
   "source": [
    "The following section consider the model of the leg, described by an ODE model.\n",
    "\n",
    "A test person with a body mass of $m_b = 100$ kg is chosen.\n",
    "\n",
    "Following state variables are involved:\n",
    "- $q_1$: Extension angle of the **hip** around then transversal axis ($xy$-plane)\n",
    "- $\\omega_1$: Angular velocity of the tight\n",
    "- $q_2$: Rotation angle of the **knee** around the transversal axis ($xy$-plane) \n",
    "- $\\omega_2$ Angular velocity of the shank\n",
    "\n",
    "The segement masses are considered as point masses in the middle of each segment."
   ]
  },
  {
   "cell_type": "markdown",
   "metadata": {},
   "source": [
    "![](LegModel.png)"
   ]
  },
  {
   "cell_type": "markdown",
   "metadata": {},
   "source": [
    "|Variable|Description|\n",
    "|--------|-----------|\n",
    "|$r_H$|Position vector of the hip to the reference system|\n",
    "|$H$|Hip Joint|\n",
    "|$K$|Knee Joint|\n",
    "|$O$|Tight|\n",
    "|$U$|Shank|\n",
    "|$S$|Centre of Mass of the Foot|\n",
    "|$SO$|Centre of Mass of the Tight|\n",
    "|$SU$|Centre of Mass Shank|\n",
    "|$m_1$|Tight Mass|\n",
    "|$m_2$|Shank Mass|\n",
    "|$m_3$|Foot Point Mass|\n",
    "|$J_1$|Moment of Inertia of the Tight|\n",
    "|$J_2$|Moment of Inertia of the Shank|\n",
    "|$\\alpha_H$|Flexion / Extension Angle of the Hip|\n",
    "|$\\alpha_K$|Flexion / Extension Angle of the Knee|\n",
    "\n",
    "\n",
    "Following relations for the partial masses of the legs are assumed:\n",
    "\n",
    "|Segment| Mass m [kg]|\n",
    "|------|--------------|\n",
    "|Tight|  $m_1 = 0.090 \\cdot m_b + 0.73 = 9.73$|\n",
    "|Shank| $m_2 = 0.055 \\cdot m_b - 0.43 = 5.07$|\n",
    "|Foot| $m_3 = 0.001 \\cdot m_b + 0.34 = 0.44$|"
   ]
  },
  {
   "cell_type": "markdown",
   "metadata": {},
   "source": [
    "### 1.2 Simplified Box Model\n",
    "\n",
    "**Input:**\n",
    "- anatomical data\n",
    "- segment weights\n",
    "- proportions of the limbs\n",
    "- length and position of the segments\n",
    "- gait data for one cycle\n",
    "    - Ground reaction **forces** in y- and x- direction\n",
    "    - **Moments** around foot, knee, and hip joints\n",
    "    - Flexion / Extension **angles** of the ankle, knee, and hip joint\n",
    "\n",
    "**Equations:**\n",
    "\n",
    "**Output:**\n"
   ]
  },
  {
   "cell_type": "markdown",
   "metadata": {},
   "source": [
    "### 1.3 Setting\n",
    "- $r_H = \\begin{bmatrix} 0 & 0.915 \\end{bmatrix}^T$ m\n",
    "- $l_O = 0.410$ m\n",
    "- $l_U = 0.415$ m\n",
    "\n",
    "https://personal.cityu.edu.hk/meachan/Online%20Anthropometry/Chapter2/Ch2-5.htm\n",
    "\n",
    "https://pmc.ncbi.nlm.nih.gov/articles/PMC5305206/"
   ]
  },
  {
   "cell_type": "markdown",
   "metadata": {},
   "source": [
    "### 1.4 Derivation "
   ]
  },
  {
   "cell_type": "markdown",
   "metadata": {},
   "source": [
    "**Relation between common measured joint angle and the chosen generalized coordinates**\n",
    "\n",
    "$$q_1 = \\alpha_H + \\frac{3}{2}\\pi$$\n",
    "\n",
    "$$q_2 = q_1 - \\alpha_K = \\alpha_H + \\frac{3}{2}\\pi - \\alpha_K$$"
   ]
  },
  {
   "cell_type": "markdown",
   "metadata": {},
   "source": [
    "**Position of the centre of mass for the body segments**\n",
    "\n",
    "$$\n",
    "\\mathbf{R}_O = \n",
    "\\begin{bmatrix}\n",
    "\\cos q_1 & -\\sin q_1 & 0 \\\\\n",
    "\\sin q_1 &  \\cos q_1 & 0 \\\\\n",
    "0        &  0        & 1\n",
    "\\end{bmatrix}\n",
    "$$\n",
    "\n",
    "$$\n",
    "\\mathbf{R}_U = \\mathbf{R}_0 \\mathbf{R}_{OU} = \n",
    "\\begin{bmatrix}\n",
    "\\cos q_2 & -\\sin q_2 & 0 \\\\\n",
    "\\sin q_2 &  \\cos q_2 & 0 \\\\\n",
    "0        &  0        & 1\n",
    "\\end{bmatrix}\n",
    "$$"
   ]
  },
  {
   "cell_type": "markdown",
   "metadata": {},
   "source": [
    "Terminology:\n",
    "\n",
    "- $\\mathbf{r}_{SOH|O}$: Position vector of the centre of mass of the tigh relative to the hip joint in the hip's reference frame.\n",
    "\n",
    "- $\\mathbf{r}_{KH|O}$: Position vector of the knee relative to the hip in the hip's reference frame.\n",
    "\n",
    "- $\\mathbf{r}_{SUK|U}$: Position vector of the centre of mass of the shank relative to the knee in the knee's reference frame."
   ]
  },
  {
   "cell_type": "markdown",
   "metadata": {},
   "source": [
    "$$\n",
    "\\mathbf r_{SO} = \\mathbf r_H + \\mathbf{R}_O \\mathbf r_{SOH|O} = \\mathbf r_H + \\mathbf{R}_O \\begin{bmatrix} \\frac{l_O}{2} & 0 & 0 \\end{bmatrix}^T\n",
    "$$"
   ]
  },
  {
   "cell_type": "markdown",
   "metadata": {},
   "source": [
    "$$\n",
    "\n",
    "\\begin{align}\n",
    "\\mathbf{r}_{SU} &= \\mathbf{r}_K + \\mathbf{R}_U \\mathbf{r}_{SUK|U} \\\\\n",
    "&= \\mathbf{r}_H + \\mathbf{R}_O \\mathbf{r}_{KH|O} + \\mathbf{R}_U \\mathbf{r}_{SUK|U} \\\\\n",
    "&= \\mathbf{r}_H + \\mathbf{R}_O \\begin{bmatrix} l_O & 0 & 0 \\end{bmatrix}^T \n",
    "   + \\mathbf{R}_U \\begin{bmatrix} \\frac{l_U}{2} & 0 & 0 \\end{bmatrix}^T\n",
    "\\end{align}\n",
    "\n",
    "$$"
   ]
  },
  {
   "cell_type": "markdown",
   "metadata": {},
   "source": [
    "**Kinetic Energy $T$**\n",
    "\n",
    "$$\\mathbf{v}_{Si} = \\dot{ \\mathbf{r}}_{Si} \\quad <\\quad \\mathbf{\\omega_i} = \\begin{bmatrix} 0 & 0 & \\dot{q}_i \\end{bmatrix}^T$$"
   ]
  },
  {
   "cell_type": "markdown",
   "metadata": {},
   "source": [
    "$$\n",
    "T = \\sum_{i=1}^k = \\frac{1}{2} m_i \\mathbf{v}_{Si}^T + \\frac{1}{2} J_i \\mathbf{\\omega_i}^T \\mathbf{\\omega_i}\n",
    "$$"
   ]
  },
  {
   "cell_type": "markdown",
   "metadata": {},
   "source": [
    "Assumptions:\n",
    "\n",
    "$$\n",
    "\\dot{\\mathbf{r}}_{SOH|O} = \\dot{\\mathbf{r}}_{KH|O} = \\dot{\\mathbf{r}}_{SUK|U} = \\dot{\\mathbf{r}}_{SK|U}\n",
    "$$"
   ]
  },
  {
   "cell_type": "markdown",
   "metadata": {},
   "source": [
    "$$\n",
    "\\begin{align}\n",
    "\\mathbf{v}_{S1}\n",
    "& = \\dot{\\mathbf{r}}_{SO} \\\\\n",
    "& = \\dot{\\mathbf r}_H + \\dot{\\mathbf{R}}_O \\mathbf r_{SOH|O} \\\\\n",
    "& = \\dot{\\mathbf r}_H + \\dot{\\mathbf{R}}_O \\begin{bmatrix} \\frac{l_O}{2} & 0 & 0 \\end{bmatrix}^T\n",
    "\\end{align}\n",
    "$$"
   ]
  },
  {
   "cell_type": "markdown",
   "metadata": {},
   "source": [
    "$$\n",
    "\\begin{align}\n",
    "\\mathbf{v}_{S2}\n",
    "& = \\dot{\\mathbf{r}}_{SU} \\\\\n",
    "& = \\dot{\\mathbf r}_H + \\dot{\\mathbf{R}}_O \\mathbf r_{KH|O} + \\dot{\\mathbf{R}}_U \\mathbf r_{SUK|U}\\\\\n",
    "& = \\dot{\\mathbf r}_H + \\dot{\\mathbf{R}}_O \\begin{bmatrix} \\frac{l_O}{2} & 0 & 0 \\end{bmatrix}^T\n",
    "+ \\dot{\\mathbf{R}}_U \\begin{bmatrix} \\frac{l_U}{2} & 0 & 0 \\end{bmatrix}^T\n",
    "\\end{align}\n",
    "$$"
   ]
  },
  {
   "cell_type": "markdown",
   "metadata": {
    "vscode": {
     "languageId": "plaintext"
    }
   },
   "source": [
    "$$\n",
    "T_1 = \\frac{m_O}{2} \\mathbf{v}_{S1}^T \\mathbf{v}_{S1} + \\frac{J_O}{2} \\omega_1^2 = \\frac{m_O}{2} \\left( \\dot{\\mathbf{r}}_H + \\dot{\\mathbf{R}}_O \\mathbf{r}_{SOH|O} \\right)^T \\left( \\dot{\\mathbf{r}}_H + \\dot{\\mathbf{R}}_O \\mathbf{r}_{SOH|O} \\right) + \\frac{J_O}{2} \\dot{q}_1^2\n",
    "$$"
   ]
  },
  {
   "cell_type": "markdown",
   "metadata": {
    "vscode": {
     "languageId": "plaintext"
    }
   },
   "source": [
    "$$\n",
    "T_2 = \\frac{m_U}{2} \\mathbf{v}_{S2}^T \\mathbf{v}_{S2} + \\frac{J_U}{2} \\omega_2^2 = \\frac{m_U}{2} \\left( \\dot{\\mathbf{r}}_H + \\dot{\\mathbf{R}}_O \\mathbf{r}_{KH|O} + \\dot{\\mathbf{R}}_U \\mathbf{r}_{SUK|U} \\right)^T \\left( \\dot{\\mathbf{r}}_H + \\dot{\\mathbf{R}}_O \\mathbf{r}_{KH|O} + \\dot{\\mathbf{R}}_U \\mathbf{r}_{SUK|U} \\right) + \\frac{J_U}{2} \\dot{q}_2^2\n",
    "$$"
   ]
  },
  {
   "cell_type": "markdown",
   "metadata": {},
   "source": [
    "$$\n",
    "T_2 = \\frac{m_U}{2} \\mathbf{v}_{S2}^T \\mathbf{v}_{S2} + \\frac{J_S}{2} \\omega_2^2 = \\frac{m_U}{2} \\left( \\dot{\\mathbf{r}}_H + \\dot{\\mathbf{R}}_O \\mathbf{r}_{KH|O} + \\dot{\\mathbf{R}}_U \\mathbf{r}_{SK|U} \\right)^T \\left( \\dot{\\mathbf{r}}_H + \\dot{\\mathbf{R}}_O \\mathbf{r}_{KH|O} + \\dot{\\mathbf{R}}_U \\mathbf{r}_{SU|U} \\right) + \\frac{J_S}{2} \\dot{q}_2^2\n",
    "$$"
   ]
  },
  {
   "cell_type": "markdown",
   "metadata": {},
   "source": [
    "**Potential Energy $V$**"
   ]
  },
  {
   "cell_type": "markdown",
   "metadata": {},
   "source": [
    "$$\n",
    "V_1 = -m_O \\mathbf{g}^T \\mathbf{r}_{SO} = -m_O \\mathbf{g}^T \\left(\\mathbf{r}_H + \\mathbf{R}_{O}\\mathbf{r}_{SOH|O} \\right)\n",
    "$$"
   ]
  },
  {
   "cell_type": "markdown",
   "metadata": {},
   "source": [
    "$$\n",
    "    V_2 = -m_U \\mathbf{g}^T \\mathbf{r}_{SU} = -m_U \\mathbf{g}^T \\left(\\mathbf{r}_H + \\mathbf{R}_O \\mathbf{r}_{KH|O} + \\mathbf{R}_U \\mathbf{r}_{SUK|U} \\right)\n",
    "$$"
   ]
  },
  {
   "cell_type": "markdown",
   "metadata": {},
   "source": [
    "$$\n",
    "V_3 = -m_F \\mathbf{g}^T \\mathbf{r}_S = -m_F \\mathbf{g}^T \\left( \\mathbf{r}_H + \\mathbf{R}_O \\mathbf{r}_{KH|O} + \\mathbf{R}_U \\mathbf{r}_{SK|U} \\right)\n",
    "$$"
   ]
  },
  {
   "cell_type": "markdown",
   "metadata": {},
   "source": [
    "We obtain the **Lagrange Function:**\n",
    "\n",
    "$$\n",
    "\\mathbf{L} = \\mathbf{T}_1 + \\mathbf{T}_2  - \\mathbf{V}\n",
    "$$\n",
    "\n",
    "$$\n",
    "\\frac{\\partial}{\\partial t} \\left(\\frac{\\partial L}{\\partial \\dot{q}_i} - \\frac{\\partial L}{\\partial q_i} \\right) = Q_i\n",
    "$$\n",
    "\n",
    " - $L$: Lagrange Function\n",
    " - $Q$: Generalized Forces\n",
    " - $T$: Kinetic Energy"
   ]
  },
  {
   "cell_type": "code",
   "execution_count": 69,
   "metadata": {},
   "outputs": [],
   "source": [
    "import numpy as np\n",
    "import pandas as pd\n",
    "from scipy.integrate import solve_ivp\n",
    "import matplotlib.pyplot as plt"
   ]
  },
  {
   "cell_type": "code",
   "execution_count": null,
   "metadata": {},
   "outputs": [],
   "source": [
    "# Constants\n",
    "bodyweight = 100  # kg\n",
    "m_thigh = 0.09 * bodyweight + 0.73\n",
    "m_shank = 0.055 * bodyweight - 0.43\n",
    "m_foot = 0.001 * bodyweight + 0.34\n",
    "\n",
    "L_thigh = 0.415  # meters\n",
    "L_shank = 0.410  # meters\n",
    "\n",
    "g = 9.81  # gravity"
   ]
  },
  {
   "cell_type": "code",
   "execution_count": 89,
   "metadata": {},
   "outputs": [],
   "source": [
    "# Moments of inertia\n",
    "I_thigh = (1/3) * m_thigh * L_thigh**2\n",
    "I_shank = (1/3) * m_shank * L_shank**2 + (m_foot * L_shank**2) # foot is considered as a point mass"
   ]
  },
  {
   "cell_type": "code",
   "execution_count": 97,
   "metadata": {},
   "outputs": [],
   "source": [
    "# Parse xls file\n",
    "filename = 'gait_data.xls'\n",
    "data = pd.read_excel(filename)\n",
    "\n",
    "gait = data['gait_%'] / 100\n",
    "\n",
    "GRFx_BW = data['GRFx[%BW]']\n",
    "GRFz_BW = data['GRFz[%BW]']\n",
    "\n",
    "alpha_H_deg = data['Flex_Ext_H[deg]']\n",
    "q1_rad = np.deg2rad(alpha_H_deg) + 3/2 * np.pi \n",
    "\n",
    "alpha_K_deg = data['Flex_Ext_K[deg]']\n",
    "q2_rad = q1_rad - np.deg2rad(alpha_K_deg) \n",
    "\n",
    "moments_H = data['MX_H[Nm/kg]'] * bodyweight\n",
    "moments_K = data['MX_K[Nm/kg]'] * bodyweight\n",
    "moments_F = data['MX_F[Nm/kg]'] * bodyweight"
   ]
  },
  {
   "cell_type": "code",
   "execution_count": 98,
   "metadata": {},
   "outputs": [],
   "source": [
    "# Interpolation of input data\n",
    "time = np.linspace(0, 1, len(data))\n",
    "M_hip = np.interp(time, np.linspace(0, 1, len(data)), moments_H)\n",
    "M_knee = np.interp(time, np.linspace(0, 1, len(data)), moments_K)\n",
    "q1_init = q1_rad[0]\n",
    "q2_init = q2_rad[0]"
   ]
  },
  {
   "cell_type": "code",
   "execution_count": 99,
   "metadata": {},
   "outputs": [],
   "source": [
    "def interpolate_data(data, gait_time, t):\n",
    "    \"\"\"Interpolates gait data for a given time.\"\"\"\n",
    "    return np.interp(t, gait_time, data)"
   ]
  },
  {
   "cell_type": "code",
   "execution_count": 100,
   "metadata": {},
   "outputs": [],
   "source": [
    "# ODE system\n",
    "def leg_dynamics(t, y):\n",
    "    q1, w1, q2, w2 = y\n",
    "\n",
    "    # Interpolated joint moments\n",
    "    M_hip = interpolate_data(moments_H, gait, t)\n",
    "    M_knee = interpolate_data(moments_K, gait, t)\n",
    "    \n",
    "    # Torques\n",
    "    T1 = -m_thigh * g * L_thigh / 2 * np.sin(q1) + M_hip\n",
    "    T2 = -m_shank * g * L_shank / 2 * np.sin(q2) + M_knee\n",
    "    \n",
    "    # Equations of motion\n",
    "    dq1dt = w1\n",
    "    dw1dt = T1 / I_thigh\n",
    "    dq2dt = w2\n",
    "    dw2dt = T2 / I_shank\n",
    "    \n",
    "    return [dq1dt, dw1dt, dq2dt, dw2dt]"
   ]
  },
  {
   "cell_type": "code",
   "execution_count": 101,
   "metadata": {},
   "outputs": [
    {
     "data": {
      "image/png": "[encoded data removed]",
      "text/plain": [
       "<Figure size 1000x600 with 1 Axes>"
      ]
     },
     "metadata": {},
     "output_type": "display_data"
    }
   ],
   "source": [
    "# Time step\n",
    "dt = 0.01\n",
    "t_start = 0\n",
    "t_end = 1\n",
    "t_eval = np.arange(t_start, t_end, dt)\n",
    "\n",
    "# Initial conditions\n",
    "y0 = [q1_init, 0, q2_init, 0]\n",
    "\n",
    "# Time span\n",
    "t_span = (0, 1)\n",
    "t_eval = np.linspace(0, 1, 101)\n",
    "\n",
    "# Solve ODE\n",
    "sol = solve_ivp(leg_dynamics, (t_start, t_end), y0, t_eval=t_eval, method='RK45')\n",
    "\n",
    "# Results\n",
    "q1, w1, q2, w2 = sol.y\n",
    "\n",
    "# Visualization\n",
    "plt.figure(figsize=(10, 6))\n",
    "plt.plot(t_eval, np.degrees(q1), label=\"Thigh Angle (q1)\")\n",
    "plt.plot(t_eval, np.degrees(q2), label=\"Shank Angle (q2)\")\n",
    "plt.plot(t_eval, np.degrees(q1 - q2), label=\"Knee Angle (q1 - q2)\")\n",
    "plt.xlabel(\"Gait Cycle (%)\")\n",
    "plt.ylabel(\"Angle (deg)\")\n",
    "plt.title(\"Double Pendulum Kinematics During Gait Cycle\")\n",
    "plt.legend()\n",
    "plt.grid()\n",
    "plt.show()\n"
   ]
  }
 ],
 "metadata": {
  "kernelspec": {
   "display_name": "base",
   "language": "python",
   "name": "python3"
  },
  "language_info": {
   "codemirror_mode": {
    "name": "ipython",
    "version": 3
   },
   "file_extension": ".py",
   "mimetype": "text/x-python",
   "name": "python",
   "nbconvert_exporter": "python",
   "pygments_lexer": "ipython3",
   "version": "3.12.7"
  }
 },
 "nbformat": 4,
 "nbformat_minor": 2
}
