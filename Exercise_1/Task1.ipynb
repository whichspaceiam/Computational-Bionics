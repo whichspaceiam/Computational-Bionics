{
 "cells": [
  {
   "cell_type": "markdown",
   "metadata": {},
   "source": [
    "# Computational Bionics: Project Exercise 1\n",
    "\n",
    "Group members:\n",
    "- Yash Waware\n",
    "- Julian Lork\n",
    "- Florian Frech"
   ]
  },
  {
   "cell_type": "markdown",
   "metadata": {},
   "source": [
    "## Task 1: Modeling the Leg"
   ]
  },
  {
   "cell_type": "markdown",
   "metadata": {},
   "source": [
    "### 1.1 Description"
   ]
  },
  {
   "cell_type": "markdown",
   "metadata": {},
   "source": [
    "The following section consider the model of the leg, described by an ODE model.\n",
    "\n",
    "A test person with a body mass of $m_b = 100$ kg is chosen.\n",
    "\n",
    "Following state variables are involved:\n",
    "- $q_1$: Extension angle of the **hip** around then transversal axis ($xy$-plane)\n",
    "- $\\omega_1$: Angular velocity of the tight\n",
    "- $q_2$: Rotation angle of the **knee** around the transversal axis ($xy$-plane) \n",
    "- $\\omega_2$ Angular velocity of the shank\n",
    "\n",
    "The segement masses are considered as point masses in the middle of each segment."
   ]
  },
  {
   "cell_type": "markdown",
   "metadata": {},
   "source": [
    "![](LegModel.png)"
   ]
  },
  {
   "cell_type": "markdown",
   "metadata": {},
   "source": [
    "|Variable|Description|\n",
    "|--------|-----------|\n",
    "|$r_H$|Position vector of the hip to the reference system|\n",
    "|$H$|Hip Joint|\n",
    "|$K$|Knee Joint|\n",
    "|$O$|Tight|\n",
    "|$U$|Shank|\n",
    "|$S$|Centre of Mass of the Foot|\n",
    "|$SO$|Centre of Mass of the Tight|\n",
    "|$SU$|Centre of Mass Shank|\n",
    "|$m_1$|Tight Mass|\n",
    "|$m_2$|Shank Mass|\n",
    "|$m_3$|Foot Point Mass|\n",
    "|$J_1$|Moment of Inertia of the Tight|\n",
    "|$J_2$|Moment of Inertia of the Shank|\n",
    "|$\\alpha_H$|Flexion / Extension Angle of the Hip|\n",
    "|$\\alpha_K$|Flexion / Extension Angle of the Knee|\n",
    "\n",
    "\n",
    "Following relations for the partial masses of the legs are assumed:\n",
    "\n",
    "|Segment| Mass m [kg]|\n",
    "|------|--------------|\n",
    "|Tight|  $m_1 = 0.090 \\cdot m_b + 0.73 = 9.73$|\n",
    "|Shank| $m_2 = 0.055 \\cdot m_b - 0.43 = 5.07$|\n",
    "|Foot| $m_3 = 0.001 \\cdot m_b + 0.34 = 0.44$|"
   ]
  },
  {
   "cell_type": "markdown",
   "metadata": {},
   "source": [
    "### 1.2 Simplified Box Model\n",
    "\n",
    "**Input:**\n",
    "- anatomical data\n",
    "- segment weights\n",
    "- proportions of the limbs\n",
    "- length and position of the segments\n",
    "- gait data for one cycle\n",
    "    - Ground reaction **forces** in y- and x- direction\n",
    "    - **Moments** around foot, knee, and hip joints\n",
    "    - Flexion / Extension **angles** of the ankle, knee, and hip joint\n",
    "\n",
    "**Equations:**\n",
    "\n",
    "**Output:**\n"
   ]
  },
  {
   "cell_type": "markdown",
   "metadata": {},
   "source": [
    "### 1.3 Setting\n",
    "- $r_H = \\begin{bmatrix} 0 & 0.915 \\end{bmatrix}^T$ m\n",
    "- $l_O = 0.410$ m\n",
    "- $l_U = 0.415$ m\n",
    "\n",
    "https://personal.cityu.edu.hk/meachan/Online%20Anthropometry/Chapter2/Ch2-5.htm\n",
    "\n",
    "https://pmc.ncbi.nlm.nih.gov/articles/PMC5305206/"
   ]
  },
  {
   "cell_type": "markdown",
   "metadata": {},
   "source": [
    "### 1.4 Derivation "
   ]
  },
  {
   "cell_type": "markdown",
   "metadata": {},
   "source": [
    "**Relation between common measured joint angle and the chosen generalized coordinates**\n",
    "\n",
    "$$q_1 = \\alpha_H + \\frac{3}{2}\\pi$$\n",
    "\n",
    "$$q_2 = q_1 - \\alpha_K = \\alpha_H + \\frac{3}{2}\\pi - \\alpha_K$$"
   ]
  },
  {
   "cell_type": "markdown",
   "metadata": {},
   "source": [
    "**Position of the centre of mass for the body segments**\n",
    "\n",
    "$$\n",
    "\\mathbf{R}_O = \n",
    "\\begin{bmatrix}\n",
    "\\cos q_1 & -\\sin q_1 & 0 \\\\\n",
    "\\sin q_1 &  \\cos q_1 & 0 \\\\\n",
    "0        &  0        & 1\n",
    "\\end{bmatrix}\n",
    "$$\n",
    "\n",
    "$$\n",
    "\\mathbf{R}_U = \\mathbf{R}_0 \\mathbf{R}_{OU} = \n",
    "\\begin{bmatrix}\n",
    "\\cos q_2 & -\\sin q_2 & 0 \\\\\n",
    "\\sin q_2 &  \\cos q_2 & 0 \\\\\n",
    "0        &  0        & 1\n",
    "\\end{bmatrix}\n",
    "$$"
   ]
  },
  {
   "cell_type": "markdown",
   "metadata": {},
   "source": [
    "Terminology:\n",
    "\n",
    "- $\\mathbf{r}_{SOH|O}$: Position vector of the centre of mass of the tigh relative to the hip joint in the hip's reference frame.\n",
    "\n",
    "- $\\mathbf{r}_{KH|O}$: Position vector of the knee relative to the hip in the hip's reference frame.\n",
    "\n",
    "- $\\mathbf{r}_{SUK|U}$: Position vector of the centre of mass of the shank relative to the knee in the knee's reference frame."
   ]
  },
  {
   "cell_type": "markdown",
   "metadata": {},
   "source": [
    "$$\n",
    "\\mathbf r_{SO} = \\mathbf r_H + \\mathbf{R}_O \\mathbf r_{SOH|O} = \\mathbf r_H + \\mathbf{R}_O \\begin{bmatrix} \\frac{l_O}{2} & 0 & 0 \\end{bmatrix}^T\n",
    "$$"
   ]
  },
  {
   "cell_type": "markdown",
   "metadata": {},
   "source": [
    "$$\n",
    "\n",
    "\\begin{align}\n",
    "\\mathbf{r}_{SU} &= \\mathbf{r}_K + \\mathbf{R}_U \\mathbf{r}_{SUK|U} \\\\\n",
    "&= \\mathbf{r}_H + \\mathbf{R}_O \\mathbf{r}_{KH|O} + \\mathbf{R}_U \\mathbf{r}_{SUK|U} \\\\\n",
    "&= \\mathbf{r}_H + \\mathbf{R}_O \\begin{bmatrix} l_O & 0 & 0 \\end{bmatrix}^T \n",
    "   + \\mathbf{R}_U \\begin{bmatrix} \\frac{l_U}{2} & 0 & 0 \\end{bmatrix}^T\n",
    "\\end{align}\n",
    "\n",
    "$$"
   ]
  },
  {
   "cell_type": "markdown",
   "metadata": {},
   "source": [
    "**Lagrange Function**\n",
    "$$\n",
    "\\mathbf{L} = \\mathbf{T} - \\mathbf{V}\n",
    "$$\n",
    "\n",
    "$$\n",
    "\\frac{\\partial}{\\partial t} \\left(\\frac{\\partial L}{\\partial \\dot{q}_i} - \\frac{\\partial L}{\\partial q_i} \\right) = Q_i\n",
    "$$\n",
    "\n",
    " - $L$: Lagrange Function\n",
    " - $Q$: Generalized Forces\n",
    " - $T$: Kinetic Energy"
   ]
  },
  {
   "cell_type": "markdown",
   "metadata": {},
   "source": [
    "**Kinetic Energy $T$**\n",
    "\n",
    "$$\\mathbf{v}_{Si} = \\dot{ \\mathbf{r}}_{Si} \\quad <\\quad \\mathbf{\\omega_i} = \\begin{bmatrix} 0 & 0 & \\dot{q}_i \\end{bmatrix}^T$$"
   ]
  },
  {
   "cell_type": "markdown",
   "metadata": {},
   "source": [
    "$$\n",
    "T = \\sum_{i=1}^k = \\frac{1}{2} m_i \\mathbf{v}_{Si}^T + \\frac{1}{2} J_i \\mathbf{\\omega_i}^T \\mathbf{\\omega_i}\n",
    "$$"
   ]
  },
  {
   "cell_type": "markdown",
   "metadata": {},
   "source": [
    "Assumptions:\n",
    "\n",
    "$$\n",
    "\\dot{\\mathbf{r}}_{SOH|O} = \\dot{\\mathbf{r}}_{KH|O} = \\dot{\\mathbf{r}}_{SUK|U} = \\dot{\\mathbf{r}}_{SK|U}\n",
    "$$"
   ]
  },
  {
   "cell_type": "markdown",
   "metadata": {},
   "source": [
    "$$\n",
    "\\begin{align}\n",
    "\\mathbf{v}_{S1}\n",
    "& = \\dot{\\mathbf{r}}_{SO} \\\\\n",
    "& = \\dot{\\mathbf r}_H + \\dot{\\mathbf{R}}_O \\mathbf r_{SOH|O} \\\\\n",
    "& = \\dot{\\mathbf r}_H + \\dot{\\mathbf{R}}_O \\begin{bmatrix} \\frac{l_O}{2} & 0 & 0 \\end{bmatrix}^T\n",
    "\\end{align}\n",
    "$$"
   ]
  },
  {
   "cell_type": "markdown",
   "metadata": {},
   "source": [
    "$$\n",
    "\\begin{align}\n",
    "\\mathbf{v}_{S2}\n",
    "& = \\dot{\\mathbf{r}}_{SU} \\\\\n",
    "& = \\dot{\\mathbf r}_H + \\dot{\\mathbf{R}}_O \\mathbf r_{KH|O} + \\dot{\\mathbf{R}}_U \\mathbf r_{SUK|U}\\\\\n",
    "& = \\dot{\\mathbf r}_H + \\dot{\\mathbf{R}}_O \\begin{bmatrix} \\frac{l_O}{2} & 0 & 0 \\end{bmatrix}^T\n",
    "+ \\dot{\\mathbf{R}}_U \\begin{bmatrix} \\frac{l_U}{2} & 0 & 0 \\end{bmatrix}^T\n",
    "\\end{align}\n",
    "$$"
   ]
  },
  {
   "cell_type": "markdown",
   "metadata": {},
   "source": [
    "**Potential Energy $V$**"
   ]
  },
  {
   "cell_type": "markdown",
   "metadata": {},
   "source": []
  }
 ],
 "metadata": {
  "language_info": {
   "name": "python"
  }
 },
 "nbformat": 4,
 "nbformat_minor": 2
}
