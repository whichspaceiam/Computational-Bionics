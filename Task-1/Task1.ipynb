{
 "cells": [
  {
   "cell_type": "markdown",
   "metadata": {},
   "source": [
    "# Computational Bionics: Project Exercise 1\n",
    "\n",
    "Group members:\n",
    "- Yash Waware\n",
    "- Julian Lork\n",
    "- Florian Frech"
   ]
  },
  {
   "cell_type": "markdown",
   "metadata": {},
   "source": [
    "## Task 1: Modeling the Leg"
   ]
  },
  {
   "cell_type": "markdown",
   "metadata": {},
   "source": [
    "### 1.1 Description"
   ]
  },
  {
   "cell_type": "markdown",
   "metadata": {},
   "source": [
    "The following section consider the model of the leg, described by an ODE model.\n",
    "\n",
    "A test person with a body mass of $m_b = 100$ kg is chosen.\n",
    "\n",
    "Following state variables are involved:\n",
    "- $q_1$: Extension angle of the **hip** around then transversal axis ($xy$-plane)\n",
    "- $\\omega_1$: Angular velocity of the tight\n",
    "- $q_2$: Rotation angle of the **knee** around the transversal axis ($xy$-plane) \n",
    "- $\\omega_2$ Angular velocity of the shank\n",
    "\n",
    "The segement masses are considered as point masses in the middle of each segment."
   ]
  },
  {
   "cell_type": "markdown",
   "metadata": {},
   "source": [
    "![](LegModel.png)"
   ]
  },
  {
   "cell_type": "markdown",
   "metadata": {},
   "source": [
    "|Variable|Description|\n",
    "|--------|-----------|\n",
    "|$r_H$|Position vector of the hip to the reference system|\n",
    "|$H$|Hip Joint|\n",
    "|$K$|Knee Joint|\n",
    "|$O$|Tight|\n",
    "|$U$|Shank|\n",
    "|$S$|Centre of Mass of the Foot|\n",
    "|$SO$|Centre of Mass of the Tight|\n",
    "|$SU$|Centre of Mass Shank|\n",
    "|$m_1$|Tight Mass|\n",
    "|$m_2$|Shank Mass|\n",
    "|$m_3$|Foot Point Mass|\n",
    "|$J_1$|Moment of Inertia of the Tight|\n",
    "|$J_2$|Moment of Inertia of the Shank|\n",
    "|$\\alpha_H$|Flexion / Extension Angle of the Hip|\n",
    "|$\\alpha_K$|Flexion / Extension Angle of the Knee|\n",
    "\n",
    "\n",
    "Following relations for the partial masses of the legs are assumed:\n",
    "\n",
    "|Segment| Mass m [kg]|\n",
    "|------|--------------|\n",
    "|Tight|  $m_1 = 0.090 \\cdot m_b + 0.73 = 9.73$|\n",
    "|Shank| $m_2 = 0.055 \\cdot m_b - 0.43 = 5.07$|\n",
    "|Foot| $m_3 = 0.001 \\cdot m_b + 0.34 = 0.44$|"
   ]
  },
  {
   "cell_type": "markdown",
   "metadata": {},
   "source": [
    "### 1.2 Simplified Box Model\n",
    "\n",
    "**Input:**\n",
    "- anatomical data\n",
    "- segment weights\n",
    "- proportions of the limbs\n",
    "- length and position of the segments\n",
    "- gait data for one cycle\n",
    "    - Ground reaction **forces** in y- and x- direction\n",
    "    - **Moments** around foot, knee, and hip joints\n",
    "    - Flexion / Extension **angles** of the ankle, knee, and hip joint\n",
    "\n",
    "**Equations:**\n",
    "\n",
    "**Output:**\n"
   ]
  },
  {
   "cell_type": "markdown",
   "metadata": {},
   "source": [
    "### 1.3 Setting\n",
    "- Length of the Tight: $l_O = 0.410$ m\n",
    "- Length of the Shank: $l_U = 0.415$ m\n",
    "\n",
    "https://personal.cityu.edu.hk/meachan/Online%20Anthropometry/Chapter2/Ch2-5.htm\n",
    "\n",
    "https://pmc.ncbi.nlm.nih.gov/articles/PMC5305206/"
   ]
  },
  {
   "cell_type": "markdown",
   "metadata": {},
   "source": [
    "### 1.4 Derivation "
   ]
  },
  {
   "cell_type": "markdown",
   "metadata": {},
   "source": [
    "**Relation between common measured joint angle and the chosen generalized coordinates**\n",
    "\n",
    "$$q_1 = \\alpha_H + \\frac{3}{2}\\pi$$\n",
    "\n",
    "$$q_2 = q_1 - \\alpha_K = \\alpha_H + \\frac{3}{2}\\pi - \\alpha_K$$"
   ]
  },
  {
   "cell_type": "markdown",
   "metadata": {},
   "source": [
    "**Position vectors** to the centre of mass of tight $SO$, shank $SU$, and foot $S$ with respect to the hip $H$\n",
    "\n",
    "https://scienceworld.wolfram.com/physics/DoublePendulum.html\n",
    "\n",
    "https://en.wikipedia.org/wiki/Double_pendulum\n",
    "\n",
    "\n",
    "$$\n",
    "\\mathbf{r}_{SO} = 0.5 \\cdot l_O \\cdot \\begin{bmatrix} \n",
    "                   \\cos q_1 \\\\\n",
    "                   \\sin q_1 \\\\\n",
    "                   0 \\end{bmatrix} \\quad \\quad\n",
    "\n",
    "\\mathbf{r}_{SU} = \\begin{bmatrix}\n",
    "                   l_O \\cos q_1 + 0.5 \\cdot l_U \\cos q_2 \\\\\n",
    "                   l_O \\sin q_1 + 0.5 \\cdot l_U \\sin q_2 \\\\\n",
    "                   0 \\end{bmatrix} \\quad \\quad\n",
    "\n",
    "\\mathbf{r}_{S} = \\begin{bmatrix}\n",
    "                   l_O \\cos q_1 + l_U \\cos q_2 \\\\\n",
    "                   l_O \\sin q_1 + l_U \\sin q_2 \\\\\n",
    "                   0 \\end{bmatrix} \\quad \\quad                   \n",
    "$$"
   ]
  },
  {
   "cell_type": "markdown",
   "metadata": {},
   "source": [
    "![](SketchTask1.png)"
   ]
  },
  {
   "cell_type": "markdown",
   "metadata": {},
   "source": [
    "**Velocity vectors** to the centre of mass of tight $SO$, shank $SU$, and foot $S$\n",
    "\n",
    "$$\n",
    "\\mathbf{v}_{SO} = 0.5 \\cdot l_O \\cdot \\dot{q}_1\\begin{bmatrix} - \\sin q_1 \\\\ \\cos q_1 \\\\ 0 \\end{bmatrix}\n",
    "$$\n",
    "\n",
    "$$\n",
    "\\mathbf{v}_{SU} = l_O \\cdot \\dot{q}_1 \\begin{bmatrix}  - \\sin q_1 \\\\ \\cos q_1 \\\\ 0 \\end{bmatrix} + 0.5 \\cdot l_U \\cdot \\dot{q}_2 \\begin{bmatrix}  - \\sin q_2 \\\\ \\cos q_2 \\\\ 0 \\end{bmatrix}\n",
    "$$\n",
    "\n",
    "$$\n",
    "\\mathbf{v}_{S} = l_O \\cdot \\dot{q}_1 \\begin{bmatrix}  - \\sin q_1 \\\\ \\cos q_1 \\\\ 0 \\end{bmatrix} + l_U \\cdot \\dot{q}_2 \\begin{bmatrix}  - \\sin q_2 \\\\ \\cos q_2 \\\\ 0 \\end{bmatrix}\n",
    "$$"
   ]
  },
  {
   "cell_type": "code",
   "execution_count": 125,
   "metadata": {},
   "outputs": [],
   "source": [
    "import sympy as sp\n",
    "\n",
    "l_O, l_U, q1, q2, w1, w2, t = sp.symbols('l_O l_U q1 q2 w_1  w_2 t')\n",
    "\n",
    "q1 = sp.Function('q1')(t)\n",
    "q2 = sp.Function('q2')(t)\n",
    "\n",
    "w1 = sp.Function('w_1')(t)\n",
    "w2 = sp.Function('w_2')(t)\n",
    "\n",
    "# Position vectors\n",
    "r_SO = sp.Matrix([0.5 * l_O * sp.cos(q1), 0.5 * l_O *sp.sin(q1), 0])\n",
    "r_SU = sp.Matrix([l_O * sp.cos(q1) + 0.5 * l_U * sp.cos(q2), l_O * sp.sin(q1) + 0.5 * l_U * sp.sin(q2), 0])\n",
    "r_S = sp.Matrix([l_O * sp.cos(q1) + l_U * sp.cos(q2), l_O * sp.sin(q1) + l_U * sp.sin(q2), 0])\n",
    "\n",
    "# Define velocity vectors\n",
    "v_SO = 0.5 * l_O * w1 * sp.Matrix([[-sp.sin(q1)], [sp.cos(q1)], [0]])\n",
    "v_SU = l_O * w1 * sp.Matrix([[-sp.sin(q1)], [sp.cos(q1)], [0]]) + 0.5 * l_U * w2 * sp.Matrix([[-sp.sin(q2)], [sp.cos(q2)], [0]])\n",
    "v_S = l_O * w1 * sp.Matrix([[-sp.sin(q1)], [sp.cos(q1)], [0]]) + l_U * w2 * sp.Matrix([[-sp.sin(q2)], [sp.cos(q2)], [0]])\n",
    "\n",
    "#v_SO = sp.diff(r_SO, t)\n",
    "#v_SU = sp.diff(r_SU, t)\n",
    "#v_S = sp.diff(r_S, t)"
   ]
  },
  {
   "cell_type": "markdown",
   "metadata": {},
   "source": [
    "**Kinetic Energy T**\n",
    "\n",
    "$$\n",
    "T_1 = \\frac{1}{2} m_O \\mathbf{v}_{SO}^T \\mathbf{v}_{SO}\n",
    "$$\n",
    "\n",
    "$$\n",
    "T_2 = \\frac{1}{2} m_U \\mathbf{v}_{SU}^T \\mathbf{v}_{SU}\n",
    "$$\n",
    "\n",
    "$$\n",
    "T_3 = \\frac{1}{2} m_F \\mathbf{v}_{S}^T \\mathbf{v}_{S}\n",
    "$$"
   ]
  },
  {
   "cell_type": "code",
   "execution_count": 126,
   "metadata": {},
   "outputs": [
    {
     "data": {
      "text/latex": [
       "$\\displaystyle 0.125 l_{O}^{2} m_{O} w_{1}^{2}{\\left(t \\right)} + 0.5 m_{F} \\left(l_{O}^{2} w_{1}^{2}{\\left(t \\right)} + 2 l_{O} l_{U} w_{1}{\\left(t \\right)} w_{2}{\\left(t \\right)} \\cos{\\left(q_{1}{\\left(t \\right)} - q_{2}{\\left(t \\right)} \\right)} + l_{U}^{2} w_{2}^{2}{\\left(t \\right)}\\right) + 0.5 m_{U} \\left(1.0 l_{O}^{2} w_{1}^{2}{\\left(t \\right)} + 1.0 l_{O} l_{U} w_{1}{\\left(t \\right)} w_{2}{\\left(t \\right)} \\cos{\\left(q_{1}{\\left(t \\right)} - q_{2}{\\left(t \\right)} \\right)} + 0.25 l_{U}^{2} w_{2}^{2}{\\left(t \\right)}\\right)$"
      ],
      "text/plain": [
       "0.125*l_O**2*m_O*w_1(t)**2 + 0.5*m_F*(l_O**2*w_1(t)**2 + 2*l_O*l_U*w_1(t)*w_2(t)*cos(q1(t) - q2(t)) + l_U**2*w_2(t)**2) + 0.5*m_U*(1.0*l_O**2*w_1(t)**2 + 1.0*l_O*l_U*w_1(t)*w_2(t)*cos(q1(t) - q2(t)) + 0.25*l_U**2*w_2(t)**2)"
      ]
     },
     "execution_count": 126,
     "metadata": {},
     "output_type": "execute_result"
    }
   ],
   "source": [
    "# Kinetic energy\n",
    "mO, mU, mF = sp.symbols('m_O m_U m_F')\n",
    "\n",
    "T1 = 0.5 * mO * v_SO.dot(v_SO)\n",
    "T2 = 0.5 * mU * v_SU.dot(v_SU)\n",
    "T3 = 0.5 * mF * v_S.dot(v_S)\n",
    "T = T1 + T2 + T3\n",
    "T = T.simplify()\n",
    "\n",
    "T"
   ]
  },
  {
   "cell_type": "markdown",
   "metadata": {},
   "source": [
    "**Potential Energy V**\n",
    "\n",
    "$$\n",
    "V_1 = m_O \\cdot g \\cdot 0.5 \\cdot l_O \\cdot \\sin q_1\n",
    "$$\n",
    "\n",
    "$$\n",
    "V_2 = m_U \\cdot g \\cdot ( l_O \\sin q_1 + 0.5 \\cdot l_U \\sin q_2)\n",
    "$$\n",
    "\n",
    "$$\n",
    "V_3 = m_F \\cdot g \\cdot ( l_O \\sin q_1 + \\cdot l_U \\sin q_2)\n",
    "$$"
   ]
  },
  {
   "cell_type": "code",
   "execution_count": 127,
   "metadata": {},
   "outputs": [
    {
     "data": {
      "text/latex": [
       "$\\displaystyle g \\left(0.5 l_{O} m_{O} \\sin{\\left(q_{1}{\\left(t \\right)} \\right)} + m_{F} \\left(l_{O} \\sin{\\left(q_{1}{\\left(t \\right)} \\right)} + l_{U} \\sin{\\left(q_{2}{\\left(t \\right)} \\right)}\\right) + m_{U} \\left(l_{O} \\sin{\\left(q_{1}{\\left(t \\right)} \\right)} + 0.5 l_{U} \\sin{\\left(q_{2}{\\left(t \\right)} \\right)}\\right)\\right)$"
      ],
      "text/plain": [
       "g*(0.5*l_O*m_O*sin(q1(t)) + m_F*(l_O*sin(q1(t)) + l_U*sin(q2(t))) + m_U*(l_O*sin(q1(t)) + 0.5*l_U*sin(q2(t))))"
      ]
     },
     "execution_count": 127,
     "metadata": {},
     "output_type": "execute_result"
    }
   ],
   "source": [
    "# Potential energy\n",
    "g = sp.symbols('g')\n",
    "\n",
    "V1 = mO * g * r_SO[1]\n",
    "V2 = mU * g * r_SU[1]\n",
    "V3 = mF * g * r_S[1]\n",
    "V = V1 + V2 + V3\n",
    "V = V.simplify()\n",
    "\n",
    "V"
   ]
  },
  {
   "cell_type": "markdown",
   "metadata": {},
   "source": [
    "**Lagrange Function**\n",
    "\n",
    "$$L = T - V$$\n",
    "\n",
    "$$\n",
    "L = T_1 + T_2 + T_3 - V_1 - V_2 - V_3\n",
    "$$\n",
    "\n",
    "$$\n",
    "L = \\frac{1}{2} \\left[ m_O \\mathbf{v}_{SO}^T \\mathbf{v}_{SO} + m_U \\mathbf{v}_{SU}^T \\mathbf{v}_{SU} + m_F \\mathbf{v}_{S}^T \\mathbf{v}_{S} \\right]\n",
    "- g \\cdot \\left[ m_O \\cdot 0.5 \\cdot l_O \\cdot \\sin q_1 +  m_U \\cdot ( l_O \\sin q_1 + 0.5 \\cdot l_U \\sin q_2) + m_F \\cdot ( l_O \\sin q_1 + \\cdot l_U \\sin q_2) \\right]\n",
    "$$\n"
   ]
  },
  {
   "cell_type": "code",
   "execution_count": 128,
   "metadata": {},
   "outputs": [],
   "source": [
    "# Lagrangian\n",
    "L = T - V\n",
    "\n",
    "# Derivatives: dL / dw_i\n",
    "dLdw1 = sp.diff(L, w1).simplify()\n",
    "dLdw2 = sp.diff(L, w2).simplify()\n",
    "\n",
    "# Derivatives: d/dt (dL / dw_i)\n",
    "ddt_dLdw1 = sp.diff(dLdw1, t)\n",
    "ddt_dLdw2 = sp.diff(dLdw2, t)\n",
    "\n",
    "# Derivatives: dL / dq_i\n",
    "dLdq1 = sp.diff(L, q1)\n",
    "dLdq2 = sp.diff(L, q2)"
   ]
  },
  {
   "cell_type": "code",
   "execution_count": 130,
   "metadata": {},
   "outputs": [
    {
     "data": {
      "text/plain": [
       "([{\\dot{w}_1: 2*(2*M_H - 2*\\dot{w}_2*l_O*l_U*m_F*cos(q1(t) - q2(t)) - \\dot{w}_2*l_O*l_U*m_U*cos(q1(t) - q2(t)) - 2*g*l_O*m_F*cos(q1(t)) - g*l_O*m_O*cos(q1(t)) - 2*g*l_O*m_U*cos(q1(t)) - 2*l_O*l_U*m_F*w_1(t)*w_2(t)*sin(q1(t) - q2(t)) + 2*l_O*l_U*m_F*w_2(t)*sin(q1(t) - q2(t))*Derivative(q1(t), t) - 2*l_O*l_U*m_F*w_2(t)*sin(q1(t) - q2(t))*Derivative(q2(t), t) - l_O*l_U*m_U*w_1(t)*w_2(t)*sin(q1(t) - q2(t)) + l_O*l_U*m_U*w_2(t)*sin(q1(t) - q2(t))*Derivative(q1(t), t) - l_O*l_U*m_U*w_2(t)*sin(q1(t) - q2(t))*Derivative(q2(t), t))/(l_O**2*(4*m_F + m_O + 4*m_U))}],\n",
       " [{\\dot{w}_2: 2*(2*M_K - 2*\\dot{w}_1*l_O*l_U*m_F*cos(q1(t) - q2(t)) - \\dot{w}_1*l_O*l_U*m_U*cos(q1(t) - q2(t)) - 2*g*l_U*m_F*cos(q2(t)) - g*l_U*m_U*cos(q2(t)) + 2*l_O*l_U*m_F*w_1(t)*w_2(t)*sin(q1(t) - q2(t)) + 2*l_O*l_U*m_F*w_1(t)*sin(q1(t) - q2(t))*Derivative(q1(t), t) - 2*l_O*l_U*m_F*w_1(t)*sin(q1(t) - q2(t))*Derivative(q2(t), t) + l_O*l_U*m_U*w_1(t)*w_2(t)*sin(q1(t) - q2(t)) + l_O*l_U*m_U*w_1(t)*sin(q1(t) - q2(t))*Derivative(q1(t), t) - l_O*l_U*m_U*w_1(t)*sin(q1(t) - q2(t))*Derivative(q2(t), t))/(l_U**2*(4*m_F + m_U))}])"
      ]
     },
     "execution_count": 130,
     "metadata": {},
     "output_type": "execute_result"
    }
   ],
   "source": [
    "M_H, M_K, w1_dot, w2_dot  = sp.symbols(r'M_H M_K \\dot{w}_1 \\dot{w}_2')\n",
    "\n",
    "# Equations of motion for q1 and q2\n",
    "eq1 = ddt_dLdw1 - dLdq1 - M_H\n",
    "eq2 = ddt_dLdw2 - dLdq2 - M_K\n",
    "\n",
    "eq1 = eq1.subs(w1.diff(t), w1_dot).subs(w2.diff(t), w2_dot)\n",
    "eq2 = eq2.subs(w2.diff(t), w2_dot).subs(w1.diff(t), w1_dot)\n",
    "\n",
    "eq1 = eq1.simplify()\n",
    "eq2 = eq2.simplify()\n",
    "\n",
    "w1_dot = sp.solve(eq1, w1_dot, dict=True, simplify=True, rational=True)\n",
    "w2_dot = sp.solve(eq2, w2_dot, dict=True, simplify=True, rational=True)\n",
    "\n",
    "w1_dot, w2_dot"
   ]
  },
  {
   "cell_type": "markdown",
   "metadata": {},
   "source": [
    "**Approach:**\n",
    "$$\\frac{\\partial}{\\partial t} \\left(\\frac{\\partial L}{\\partial \\dot{q}_i} - \\frac{\\partial L}{\\partial q_i} \\right) = Q_i$$"
   ]
  },
  {
   "cell_type": "markdown",
   "metadata": {},
   "source": [
    "$$\n",
    "\\frac{\\partial}{\\partial t} \\left(\\frac{\\partial L}{\\partial \\dot{q}_i} \\right) = \n",
    "\n",
    "\\frac{\\partial}{\\partial t} \\left[ \\frac{1}{2} \\left[ m_O \\mathbf{v}_{SO}^T \\mathbf{v}_{SO} + m_U \\mathbf{v}_{SU}^T \\mathbf{v}_{SU} + m_F \\mathbf{v}_{S}^T \\mathbf{v}_{S} \\right] \\right]\n",
    "$$"
   ]
  },
  {
   "cell_type": "markdown",
   "metadata": {},
   "source": [
    "$$\n",
    "\\frac{\\partial}{\\partial t} \\left(\\frac{\\partial L}{\\partial \\omega_1} \\right) =\n",
    "$$\n",
    "\n",
    "$$\n",
    "\\frac{\\partial}{\\partial t} \\left(\\frac{\\partial L}{\\partial \\omega_2} \\right) =\n",
    "$$"
   ]
  },
  {
   "cell_type": "markdown",
   "metadata": {},
   "source": [
    "$$\n",
    "\\frac{\\partial L}{\\partial q_1} = \n",
    "$$\n",
    "\n",
    "$$\n",
    "\\frac{\\partial L}{\\partial q_2} = \n",
    "$$"
   ]
  },
  {
   "cell_type": "markdown",
   "metadata": {},
   "source": [
    "----------------------------------------------------------"
   ]
  }
 ],
 "metadata": {
  "kernelspec": {
   "display_name": "base",
   "language": "python",
   "name": "python3"
  },
  "language_info": {
   "codemirror_mode": {
    "name": "ipython",
    "version": 3
   },
   "file_extension": ".py",
   "mimetype": "text/x-python",
   "name": "python",
   "nbconvert_exporter": "python",
   "pygments_lexer": "ipython3",
   "version": "3.12.7"
  }
 },
 "nbformat": 4,
 "nbformat_minor": 2
}
